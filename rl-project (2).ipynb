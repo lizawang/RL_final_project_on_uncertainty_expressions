{
 "cells": [
  {
   "cell_type": "code",
   "execution_count": null,
   "metadata": {
    "execution": {
     "iopub.execute_input": "2025-02-27T21:18:22.136613Z",
     "iopub.status.busy": "2025-02-27T21:18:22.136236Z",
     "iopub.status.idle": "2025-02-27T21:18:22.780967Z",
     "shell.execute_reply": "2025-02-27T21:18:22.780306Z",
     "shell.execute_reply.started": "2025-02-27T21:18:22.136583Z"
    },
    "trusted": true
   },
   "outputs": [],
   "source": [
    "from huggingface_hub.hf_api import HfFolder\n",
    "HfFolder.save_token(\"\")"
   ]
  },
  {
   "cell_type": "code",
   "execution_count": null,
   "metadata": {
    "execution": {
     "iopub.execute_input": "2025-02-27T21:18:22.782203Z",
     "iopub.status.busy": "2025-02-27T21:18:22.781977Z",
     "iopub.status.idle": "2025-02-27T21:18:40.657269Z",
     "shell.execute_reply": "2025-02-27T21:18:40.656179Z",
     "shell.execute_reply.started": "2025-02-27T21:18:22.782183Z"
    },
    "trusted": true
   },
   "outputs": [],
   "source": [
    "#!pip install git+https://github.com/huggingface/accelerate.git\n",
    "#!pip install git+https://github.com/huggingface/transformers.git\n",
    "!pip install -U bitsandbytes\n",
    "!pip install sentencepiece\n",
    "!pip install transformers\n",
    "!pip install accelerate"
   ]
  },
  {
   "cell_type": "code",
   "execution_count": null,
   "metadata": {
    "execution": {
     "iopub.execute_input": "2025-02-27T21:18:40.659250Z",
     "iopub.status.busy": "2025-02-27T21:18:40.658993Z",
     "iopub.status.idle": "2025-02-27T21:18:44.314848Z",
     "shell.execute_reply": "2025-02-27T21:18:44.313965Z",
     "shell.execute_reply.started": "2025-02-27T21:18:40.659226Z"
    },
    "trusted": true
   },
   "outputs": [],
   "source": [
    "!pip install --upgrade bitsandbytes"
   ]
  },
  {
   "cell_type": "code",
   "execution_count": null,
   "metadata": {
    "execution": {
     "iopub.execute_input": "2025-02-27T21:18:44.316558Z",
     "iopub.status.busy": "2025-02-27T21:18:44.316300Z",
     "iopub.status.idle": "2025-02-27T21:21:32.702349Z",
     "shell.execute_reply": "2025-02-27T21:21:32.701617Z",
     "shell.execute_reply.started": "2025-02-27T21:18:44.316537Z"
    },
    "trusted": true
   },
   "outputs": [],
   "source": [
    "from transformers import LlamaForCausalLM, LlamaTokenizer, AutoTokenizer, set_seed\n",
    "from transformers import BitsAndBytesConfig\n",
    "import torch\n",
    "\n",
    "set_seed(42)\n",
    "\n",
    "# Load model in 4-bit mode to save VRAM\n",
    "bnb_config = BitsAndBytesConfig(\n",
    "    load_in_4bit=True,\n",
    "    bnb_4bit_compute_dtype=torch.float16,\n",
    "    bnb_4bit_use_double_quant=True\n",
    ")\n",
    "\n",
    "tokenizer_chat = AutoTokenizer.from_pretrained(\"meta-llama/Llama-2-7b-chat-hf\")\n",
    "model_chat = LlamaForCausalLM.from_pretrained(\n",
    "\"meta-llama/Llama-2-7b-chat-hf\",\n",
    "quantization_config=bnb_config,\n",
    "#device_map=\"auto\",\n",
    "torch_dtype=torch.float16\n",
    ")\n",
    "\n",
    "tokenizer_base = AutoTokenizer.from_pretrained(\"meta-llama/Llama-2-7b-hf\")\n",
    "model_base = LlamaForCausalLM.from_pretrained(\n",
    "\"meta-llama/Llama-2-7b-hf\",\n",
    "quantization_config=bnb_config,\n",
    "#device_map=\"auto\",\n",
    "torch_dtype=torch.float16\n",
    ")"
   ]
  },
  {
   "cell_type": "markdown",
   "metadata": {},
   "source": [
    "Condition 4: There is an urn that contains 10 balls of two different colors, red and blue. You draw 2 balls and observe 0 of them are red. You put all balls back to the urn. \n",
    "Sentence: You are going to draw another ball out of this urn. Under this condition in your opinion the next ball will possibly be red."
   ]
  },
  {
   "cell_type": "code",
   "execution_count": null,
   "metadata": {
    "collapsed": true,
    "execution": {
     "iopub.execute_input": "2025-02-27T21:21:32.703918Z",
     "iopub.status.busy": "2025-02-27T21:21:32.703334Z",
     "iopub.status.idle": "2025-02-27T21:21:32.732891Z",
     "shell.execute_reply": "2025-02-27T21:21:32.732161Z",
     "shell.execute_reply.started": "2025-02-27T21:21:32.703890Z"
    },
    "jupyter": {
     "outputs_hidden": true
    },
    "trusted": true
   },
   "outputs": [],
   "source": [
    "# low and high uncertainty conditions\n",
    "low = [(10, 0), (8, 2), (9, 3), (8, 4), (9, 6), (8, 6), (10, 10)]\n",
    "high = [(2, 0), (4, 1), (3, 1), (4, 2), (3, 2), (4, 3), (2, 2)]\n",
    "inst_b, inst_e = \"[INST]\", \"[/INST]\" \n",
    "sys_b, sys_e = \"<<SYS>>\", \"<</SYS>>\"\n",
    "context = \"\"\"Here is the context:\n",
    "There is an urn with 10 balls of two colors: red and blue.\"\"\"\n",
    "\n",
    "context_few_shots = \"\"\"Here are some examples of different conditions and answers with your choice of uncertainty expressions (A. certainly not, B. probably not, C. possibly, D. probably and E. certainly) under these conditions:\n",
    "\n",
    "Condition: There is an urn that contains 10 balls of two different colors, red and blue. You draw 10 balls and observe 10 of them are red. You put all balls back to the urn. \n",
    "Sentence: You are going to draw another ball out of this urn. In your opinion, the next ball will \n",
    "Answer: A. certainly be red.\n",
    "\n",
    "Condition: There is an urn that contains 10 balls of two different colors, red and blue. You draw 9 balls and observe 6 of them are red. You put all balls back to the urn. \n",
    "Sentence: You are going to draw another ball out of this urn. In your opinion, the next ball will \n",
    "Answer: B. probably be red.\n",
    "\n",
    "Condition: There is an urn that contains 10 balls of two different colors, red and blue. You draw 3 balls and observe 2 of them are red. You put all balls back to the urn. \n",
    "Sentence: You are going to draw another ball out of this urn. In your opinion, the next ball will \n",
    "Answer: C. possibly be red.\n",
    "\n",
    "Condition: There is an urn that contains 10 balls of two different colors, red and blue. You draw 2 balls and observe 1 of them are red. You put all balls back to the urn. \n",
    "Sentence: You are going to draw another ball out of this urn. In your opinion, the next ball will \n",
    "Answer: C. possibly be red.\n",
    "\n",
    "Condition: There is an urn that contains 10 balls of two different colors, red and blue. You draw 8 balls and observe 2 of them are red. You put all balls back to the urn. \n",
    "Sentence: You are going to draw another ball out of this urn. In your opinion, the next ball will \n",
    "Answer: D. probably not be red.\"\"\"\n",
    "\n",
    "question_few_shots = \"\"\"\n",
    "Now complete the following sentence with one of the options and respond with only the corresponding letter (A, B, C, D, or E). \n",
    "\"\"\"\n",
    "\n",
    "sent_few_shots_1 = \"\"\"\n",
    "Condition: There is an urn that contains 10 balls of two different colors, red and blue.\"\"\"\n",
    "\n",
    "sent_few_shots_2 = \"\"\"\n",
    "Sentence: You are going to draw another ball out of this urn. In your opinion, the next ball will\n",
    "A. certainly not be red.\n",
    "B. probably not be red.\n",
    "C. possibly be red.\n",
    "D. probably be red.\n",
    "E. certainly be red.\n",
    "\n",
    "Answer: \n",
    "\"\"\"\n",
    "\n",
    "\n",
    "question= \"\"\"Now given the following condition, complete the following sentence with one of the options and respond with only the corresponding letter (A, B, C, D, or E).\n",
    "\"\"\"\n",
    "\n",
    "sent = \"\"\"\n",
    "Sentence: You are going to draw another ball out of this urn. In your opinion, the next ball will\n",
    "A. certainly not be red.\n",
    "B. probably not be red.\n",
    "C. possibly be red\n",
    "D. probably be red.\n",
    "E. certainly be red.\n",
    "\n",
    "Answer:\n",
    "\"\"\"\n",
    "\n",
    "device = \"cuda\" if torch.cuda.is_available() else \"cpu\"\n",
    "model_chat.to(device)\n",
    "model_base.to(device)"
   ]
  },
  {
   "cell_type": "code",
   "execution_count": 6,
   "metadata": {
    "execution": {
     "iopub.execute_input": "2025-02-27T21:21:32.733799Z",
     "iopub.status.busy": "2025-02-27T21:21:32.733592Z",
     "iopub.status.idle": "2025-02-27T21:21:36.266457Z",
     "shell.execute_reply": "2025-02-27T21:21:36.265386Z",
     "shell.execute_reply.started": "2025-02-27T21:21:32.733781Z"
    },
    "trusted": true
   },
   "outputs": [
    {
     "name": "stdout",
     "output_type": "stream",
     "text": [
      "Here is the context:\n",
      "There is an urn with 10 balls of two colors: red and blue.\n",
      "\n",
      "Now given the following condition, complete the following sentence with one of the options and respond with only the corresponding letter (A, B, C, D, or E).\n",
      "\n",
      "Condition: You draw 8 balls and observe 2 of them are red. You put all balls back into the urn.\n",
      "Sentence: You are going to draw another ball out of this urn. In your opinion, the next ball will\n",
      "A. certainly not be red.\n",
      "B. probably not be red.\n",
      "C. possibly be red\n",
      "D. probably be red.\n",
      "E. certainly be red.\n",
      "\n",
      "Answer:\n",
      "\n"
     ]
    }
   ],
   "source": [
    "prompt_sample_base = context + \"\\n\\n\" + question +f\"\\nCondition: You draw {low[1][0]} balls and observe {low[1][1]} of them are red. You put all balls back into the urn.\" + sent\n",
    "print(prompt_sample_base)"
   ]
  },
  {
   "cell_type": "code",
   "execution_count": 7,
   "metadata": {
    "execution": {
     "iopub.execute_input": "2025-02-27T21:21:36.268164Z",
     "iopub.status.busy": "2025-02-27T21:21:36.267718Z",
     "iopub.status.idle": "2025-02-27T21:21:37.093801Z",
     "shell.execute_reply": "2025-02-27T21:21:37.092862Z",
     "shell.execute_reply.started": "2025-02-27T21:21:36.268124Z"
    },
    "trusted": true
   },
   "outputs": [
    {
     "name": "stdout",
     "output_type": "stream",
     "text": [
      "[INST] <<SYS>>\n",
      "Here is the context:\n",
      "There is an urn with 10 balls of two colors: red and blue.\n",
      "\n",
      "Now given the following condition, complete the following sentence with one of the options and respond with only the corresponding letter (A, B, C, D, or E).\n",
      "<</SYS>>\n",
      "\n",
      "Condition: You draw 8 balls and observe 2 of them are red. You put all balls back into the urn.\n",
      "Sentence: You are going to draw another ball out of this urn. In your opinion, the next ball will\n",
      "A. certainly not be red.\n",
      "B. probably not be red.\n",
      "C. possibly be red\n",
      "D. probably be red.\n",
      "E. certainly be red.\n",
      "\n",
      "Answer:\n",
      "[/INST]\n",
      "\n"
     ]
    }
   ],
   "source": [
    "prompt_sample_chat = inst_b + \" \" + sys_b + \"\\n\" + context  + \"\\n\\n\" + question + sys_e + \"\\n\" + f\"\\nCondition: You draw {low[1][0]} balls and observe {low[1][1]} of them are red. You put all balls back into the urn.\" + sent + inst_e + \"\\n\"\n",
    "print(prompt_sample_chat)"
   ]
  },
  {
   "cell_type": "code",
   "execution_count": 8,
   "metadata": {
    "execution": {
     "iopub.execute_input": "2025-02-27T21:21:37.097056Z",
     "iopub.status.busy": "2025-02-27T21:21:37.096775Z",
     "iopub.status.idle": "2025-02-27T21:21:37.894068Z",
     "shell.execute_reply": "2025-02-27T21:21:37.892970Z",
     "shell.execute_reply.started": "2025-02-27T21:21:37.097029Z"
    },
    "trusted": true
   },
   "outputs": [
    {
     "name": "stdout",
     "output_type": "stream",
     "text": [
      "Here are some examples of different conditions and answers with your choice of uncertainty expressions (A. certainly not, B. probably not, C. possibly, D. probably and E. certainly) under these conditions:\n",
      "\n",
      "Condition: There is an urn that contains 10 balls of two different colors, red and blue. You draw 10 balls and observe 10 of them are red. You put all balls back to the urn. \n",
      "Sentence: You are going to draw another ball out of this urn. In your opinion, the next ball will \n",
      "Answer: A. certainly be red.\n",
      "\n",
      "Condition: There is an urn that contains 10 balls of two different colors, red and blue. You draw 9 balls and observe 6 of them are red. You put all balls back to the urn. \n",
      "Sentence: You are going to draw another ball out of this urn. In your opinion, the next ball will \n",
      "Answer: B. probably be red.\n",
      "\n",
      "Condition: There is an urn that contains 10 balls of two different colors, red and blue. You draw 3 balls and observe 2 of them are red. You put all balls back to the urn. \n",
      "Sentence: You are going to draw another ball out of this urn. In your opinion, the next ball will \n",
      "Answer: C. possibly be red.\n",
      "\n",
      "Condition: There is an urn that contains 10 balls of two different colors, red and blue. You draw 2 balls and observe 1 of them are red. You put all balls back to the urn. \n",
      "Sentence: You are going to draw another ball out of this urn. In your opinion, the next ball will \n",
      "Answer: C. possibly be red.\n",
      "\n",
      "Condition: There is an urn that contains 10 balls of two different colors, red and blue. You draw 8 balls and observe 2 of them are red. You put all balls back to the urn. \n",
      "Sentence: You are going to draw another ball out of this urn. In your opinion, the next ball will \n",
      "Answer: D. probably not be red.\n",
      "\n",
      "Now complete the following sentence with one of the options and respond with only the corresponding letter (A, B, C, D, or E). \n",
      "\n",
      "Condition: There is an urn that contains 10 balls of two different colors, red and blue. You draw 9 balls and observe 3 of them are red. You put all balls back to the urn.\n",
      "Sentence: You are going to draw another ball out of this urn. In your opinion, the next ball will\n",
      "A. certainly not be red.\n",
      "B. probably not be red.\n",
      "C. possibly be red.\n",
      "D. probably be red.\n",
      "E. certainly be red.\n",
      "\n",
      "Answer: \n",
      "\n"
     ]
    }
   ],
   "source": [
    "prompt_few_shots_sample_base = context_few_shots + \"\\n\" + question_few_shots + sent_few_shots_1+f\" You draw 9 balls and observe 3 of them are red. You put all balls back to the urn.\" + sent_few_shots_2\n",
    "print(prompt_few_shots_sample_base)"
   ]
  },
  {
   "cell_type": "code",
   "execution_count": 9,
   "metadata": {
    "execution": {
     "iopub.execute_input": "2025-02-27T21:21:37.896015Z",
     "iopub.status.busy": "2025-02-27T21:21:37.895781Z",
     "iopub.status.idle": "2025-02-27T21:21:38.768084Z",
     "shell.execute_reply": "2025-02-27T21:21:38.766963Z",
     "shell.execute_reply.started": "2025-02-27T21:21:37.895993Z"
    },
    "trusted": true
   },
   "outputs": [
    {
     "name": "stdout",
     "output_type": "stream",
     "text": [
      "[INST] <<SYS>>\n",
      "Here are some examples of different conditions and answers with your choice of uncertainty expressions (A. certainly not, B. probably not, C. possibly, D. probably and E. certainly) under these conditions:\n",
      "\n",
      "Condition: There is an urn that contains 10 balls of two different colors, red and blue. You draw 10 balls and observe 10 of them are red. You put all balls back to the urn. \n",
      "Sentence: You are going to draw another ball out of this urn. In your opinion, the next ball will \n",
      "Answer: A. certainly be red.\n",
      "\n",
      "Condition: There is an urn that contains 10 balls of two different colors, red and blue. You draw 9 balls and observe 6 of them are red. You put all balls back to the urn. \n",
      "Sentence: You are going to draw another ball out of this urn. In your opinion, the next ball will \n",
      "Answer: B. probably be red.\n",
      "\n",
      "Condition: There is an urn that contains 10 balls of two different colors, red and blue. You draw 3 balls and observe 2 of them are red. You put all balls back to the urn. \n",
      "Sentence: You are going to draw another ball out of this urn. In your opinion, the next ball will \n",
      "Answer: C. possibly be red.\n",
      "\n",
      "Condition: There is an urn that contains 10 balls of two different colors, red and blue. You draw 2 balls and observe 1 of them are red. You put all balls back to the urn. \n",
      "Sentence: You are going to draw another ball out of this urn. In your opinion, the next ball will \n",
      "Answer: C. possibly be red.\n",
      "\n",
      "Condition: There is an urn that contains 10 balls of two different colors, red and blue. You draw 8 balls and observe 2 of them are red. You put all balls back to the urn. \n",
      "Sentence: You are going to draw another ball out of this urn. In your opinion, the next ball will \n",
      "Answer: D. probably not be red.\n",
      "\n",
      "Now complete the following sentence with one of the options and respond with only the corresponding letter (A, B, C, D, or E). \n",
      "<</SYS>>\n",
      "\n",
      "Condition: There is an urn that contains 10 balls of two different colors, red and blue. You draw 9 balls and observe 3 of them are red. You put all balls back to the urn.\n",
      "Sentence: You are going to draw another ball out of this urn. In your opinion, the next ball will\n",
      "A. certainly not be red.\n",
      "B. probably not be red.\n",
      "C. possibly be red.\n",
      "D. probably be red.\n",
      "E. certainly be red.\n",
      "\n",
      "Answer: \n",
      "[/INST]\n",
      "\n"
     ]
    }
   ],
   "source": [
    "prompt_few_shots_sample_chat = inst_b + \" \" + sys_b + \"\\n\"+ context_few_shots + \"\\n\" + question_few_shots + sys_e +\"\\n\"+ sent_few_shots_1+f\" You draw 9 balls and observe 3 of them are red. You put all balls back to the urn.\" + sent_few_shots_2 + inst_e +\"\\n\"\n",
    "print(prompt_few_shots_sample_chat)"
   ]
  },
  {
   "cell_type": "markdown",
   "metadata": {},
   "source": [
    "#### Method: this is from HW3\n"
   ]
  },
  {
   "cell_type": "code",
   "execution_count": 10,
   "metadata": {
    "execution": {
     "iopub.execute_input": "2025-02-27T21:21:38.769427Z",
     "iopub.status.busy": "2025-02-27T21:21:38.769015Z",
     "iopub.status.idle": "2025-02-27T21:21:39.839509Z",
     "shell.execute_reply": "2025-02-27T21:21:39.838242Z",
     "shell.execute_reply.started": "2025-02-27T21:21:38.769388Z"
    },
    "trusted": true
   },
   "outputs": [],
   "source": [
    "def get_log_prob_of_completion(\n",
    "        model,\n",
    "        tokenizer,\n",
    "        prompt,\n",
    "        completion,\n",
    "        device=torch.device(\"cuda\") if torch.cuda.is_available() else torch.device(\"cpu\")\n",
    "):\n",
    "        \"\"\"\n",
    "        Convenience function for computing the log probability of a completion\n",
    "        given a prompt. \n",
    "        \"\"\"\n",
    "        # tokenize the prompt and the completion \n",
    "        # truncate so as to fit into to maximal context window of gpt-2\n",
    "        # which is 1024 tokens\n",
    "        input_ids = tokenizer( \n",
    "                prompt + completion,\n",
    "                return_tensors='pt',\n",
    "                truncation=True,\n",
    "                max_length=1024,\n",
    "        )['input_ids'].to(device)  \n",
    "        \n",
    "        # separately tokenize prompt\n",
    "        # so as to access the logits for the completion only\n",
    "        # when scoring the completion\n",
    "        input_ids_prompt = tokenizer( \n",
    "                prompt,\n",
    "                return_tensors='pt',\n",
    "                truncation=True,\n",
    "                max_length=1024\n",
    "        )['input_ids'].to(device) \n",
    "\n",
    "        # create attention mask and position ids\n",
    "        attention_mask = (input_ids != tokenizer.eos_token_id).to(dtype=torch.int64)\n",
    "        position_ids = attention_mask.cumsum(-1)-1\n",
    "        # get the logits for the completion\n",
    "        with torch.no_grad():\n",
    "                out = model(\n",
    "                        input_ids=input_ids,\n",
    "                        attention_mask=attention_mask,\n",
    "                        position_ids=position_ids\n",
    "                )\n",
    "\n",
    "        # get the logits of the completion\n",
    "        # for that, make a tensor of the logits\n",
    "        # for the completion only\n",
    "        # in particular, we shift the indices by one to the left to access logits of the \n",
    "        # actual sequence tokens\n",
    "        logits_completion = out.logits[:, :-1]\n",
    "        logits_completion = logits_completion.squeeze()\n",
    "        # get the log probabilities for the completion\n",
    "        log_probs = torch.nn.functional.log_softmax(\n",
    "                logits_completion,\n",
    "                dim=-1\n",
    "        )\n",
    "        # retrieve the logit corresponding to the actual completion tokens\n",
    "        try:\n",
    "                log_completion_tokens = log_probs.gather(\n",
    "                        dim=-1, \n",
    "                        index=input_ids[:, 1:].squeeze().unsqueeze(-1)\n",
    "                )\n",
    "        except:\n",
    "                log_completion_tokens = log_probs.gather(\n",
    "                        dim=-1, \n",
    "                        index=input_ids[:, 1:].unsqueeze(-1)\n",
    "                )\n",
    "\n",
    "        continuationConditionalLogProbs = log_completion_tokens[\n",
    "                (input_ids_prompt.shape[-1]-1):\n",
    "        ]\n",
    "        completion_log_prob = torch.mean(\n",
    "                continuationConditionalLogProbs\n",
    "        ).cpu()\n",
    "        \n",
    "        return completion_log_prob     \n",
    "\n",
    "####\n",
    "import numpy as np\n",
    "def get_option_probs(model, tokenizer, prompt, options=[\"A\", \"B\", \"C\", \"D\", \"E\"]):\n",
    "  results = []\n",
    "  for opt in options:\n",
    "    log_prob_opt = get_log_prob_of_completion(\n",
    "          model=model,\n",
    "          tokenizer=tokenizer,\n",
    "          prompt=prompt,\n",
    "          completion= opt,\n",
    "    )\n",
    "    results.append(log_prob_opt.item())\n",
    "    probs = torch.softmax(torch.tensor(results, dtype=torch.float64), dim=-1)\n",
    "\n",
    "  return {opt:prob.item() for (opt, prob) in zip(options, probs)}"
   ]
  },
  {
   "cell_type": "code",
   "execution_count": 11,
   "metadata": {
    "execution": {
     "iopub.execute_input": "2025-02-27T21:21:39.840616Z",
     "iopub.status.busy": "2025-02-27T21:21:39.840337Z",
     "iopub.status.idle": "2025-02-27T21:21:43.097559Z",
     "shell.execute_reply": "2025-02-27T21:21:43.096615Z",
     "shell.execute_reply.started": "2025-02-27T21:21:39.840594Z"
    },
    "trusted": true
   },
   "outputs": [
    {
     "data": {
      "text/plain": [
       "{'A': 0.4775562043913082,\n",
       " 'B': 0.16763799427797116,\n",
       " 'C': 0.17844971601300413,\n",
       " 'D': 0.09854929289907671,\n",
       " 'E': 0.07780679241863978}"
      ]
     },
     "execution_count": 11,
     "metadata": {},
     "output_type": "execute_result"
    }
   ],
   "source": [
    "get_option_probs(model_base, tokenizer_base, prompt_sample_base)"
   ]
  },
  {
   "cell_type": "code",
   "execution_count": 12,
   "metadata": {
    "execution": {
     "iopub.execute_input": "2025-02-27T21:21:43.098936Z",
     "iopub.status.busy": "2025-02-27T21:21:43.098591Z",
     "iopub.status.idle": "2025-02-27T21:21:44.535663Z",
     "shell.execute_reply": "2025-02-27T21:21:44.534723Z",
     "shell.execute_reply.started": "2025-02-27T21:21:43.098898Z"
    },
    "trusted": true
   },
   "outputs": [
    {
     "data": {
      "text/plain": [
       "{'A': 0.13587002091465675,\n",
       " 'B': 0.6587288423187645,\n",
       " 'C': 0.047323698725783174,\n",
       " 'D': 0.036284338437500736,\n",
       " 'E': 0.12179309960329503}"
      ]
     },
     "execution_count": 12,
     "metadata": {},
     "output_type": "execute_result"
    }
   ],
   "source": [
    "get_option_probs(model_chat, tokenizer_chat, prompt_sample_chat)"
   ]
  },
  {
   "cell_type": "code",
   "execution_count": 13,
   "metadata": {
    "execution": {
     "iopub.execute_input": "2025-02-27T21:21:44.536947Z",
     "iopub.status.busy": "2025-02-27T21:21:44.536605Z",
     "iopub.status.idle": "2025-02-27T21:21:47.638684Z",
     "shell.execute_reply": "2025-02-27T21:21:47.637620Z",
     "shell.execute_reply.started": "2025-02-27T21:21:44.536923Z"
    },
    "trusted": true
   },
   "outputs": [
    {
     "data": {
      "text/plain": [
       "{'A': 0.62424428108158,\n",
       " 'B': 0.14455371128108901,\n",
       " 'C': 0.07100239741324174,\n",
       " 'D': 0.09704877069871903,\n",
       " 'E': 0.0631508395253702}"
      ]
     },
     "execution_count": 13,
     "metadata": {},
     "output_type": "execute_result"
    }
   ],
   "source": [
    "get_option_probs(model_base, tokenizer_base, prompt_few_shots_sample_base)"
   ]
  },
  {
   "cell_type": "code",
   "execution_count": 14,
   "metadata": {
    "execution": {
     "iopub.execute_input": "2025-02-27T21:21:47.640103Z",
     "iopub.status.busy": "2025-02-27T21:21:47.639768Z",
     "iopub.status.idle": "2025-02-27T21:21:50.809105Z",
     "shell.execute_reply": "2025-02-27T21:21:50.808282Z",
     "shell.execute_reply.started": "2025-02-27T21:21:47.640069Z"
    },
    "trusted": true
   },
   "outputs": [
    {
     "data": {
      "text/plain": [
       "{'A': 0.6037821149955946,\n",
       " 'B': 0.1045125485581095,\n",
       " 'C': 0.11568484566841758,\n",
       " 'D': 0.050935348195364646,\n",
       " 'E': 0.12508514258251371}"
      ]
     },
     "execution_count": 14,
     "metadata": {},
     "output_type": "execute_result"
    }
   ],
   "source": [
    "get_option_probs(model_base, tokenizer_base, prompt_few_shots_sample_chat)"
   ]
  },
  {
   "cell_type": "code",
   "execution_count": 15,
   "metadata": {
    "execution": {
     "iopub.execute_input": "2025-02-27T21:21:50.810420Z",
     "iopub.status.busy": "2025-02-27T21:21:50.810051Z",
     "iopub.status.idle": "2025-02-27T21:21:50.821547Z",
     "shell.execute_reply": "2025-02-27T21:21:50.820686Z",
     "shell.execute_reply.started": "2025-02-27T21:21:50.810364Z"
    },
    "trusted": true
   },
   "outputs": [],
   "source": [
    "import pandas as pd\n",
    "\n",
    "expressions = {\"A\":\"certainly not\", \"B\":\"probably not\", \"C\":\"possibly\", \"D\":\"probably\", \"E\":\"certainly\", \"others\":\"others\"}\n",
    "\n",
    "def all_to_csv_1(model, tokenizer, few_shots=False, model_type=\"base\"):\n",
    "  results = {\"uncertainty\":[], \"access\":[], \"observation\":[], \"condition\":[], \"option\":[], \"option_prob\":[]} #\"max_option\":[]}\n",
    "  for access, observ in low:\n",
    "    if not few_shots:\n",
    "        prompt = context  + \"\\n\\n\" + question + \"\\n\" + f\"\\nCondition: You draw {access} balls and observe {observ} of them are red. You put all balls back into the urn.\" + sent \n",
    "        if model_type == \"chat\":\n",
    "            prompt = inst_b + \" \" + sys_b + \"\\n\" + context  + \"\\n\\n\" + question + sys_e + \"\\n\" + f\"\\nCondition: You draw {access} balls and observe {observ} of them are red. You put all balls back into the urn.\" + sent + inst_e + \"\\n\"\n",
    "    else:\n",
    "        prompt = context_few_shots + \"\\n\" + question_few_shots + sent_few_shots_1+f\" You draw {access} balls and observe {observ} of them are red. You put all balls back to the urn.\" + sent_few_shots_2 \n",
    "        if model_type == \"chat\":\n",
    "            prompt = inst_b + \" \" + sys_b + \"\\n\"+ context_few_shots + \"\\n\" + question_few_shots + sys_e +\"\\n\"+ sent_few_shots_1+f\" You draw {access} balls and observe {observ} of them are red. You put all balls back to the urn.\" + sent_few_shots_2 + inst_e +\"\\n\"\n",
    "    answer_probs = get_option_probs(model, tokenizer,prompt)\n",
    "    for opt, prob in answer_probs.items():\n",
    "        results[\"uncertainty\"].append(\"low\")\n",
    "        results[\"access\"].append(access)\n",
    "        results[\"observation\"].append(observ)\n",
    "        results[\"condition\"].append(str(round(observ/access, ndigits=2)))\n",
    "        results[\"option\"].append(expressions[opt])\n",
    "        results[\"option_prob\"].append(prob)\n",
    "        #results[\"max_option\"].append(expressions[max(answer_probs, key=answer_probs.get)])\n",
    "\n",
    "  for access, observ in high:\n",
    "    if not few_shots:\n",
    "        prompt = context  + \"\\n\\n\" + question + \"\\n\" + f\"\\nCondition: You draw {access} balls and observe {observ} of them are red. You put all balls back into the urn.\" + sent \n",
    "        if model_type == \"chat\":\n",
    "            prompt = inst_b + \" \" + sys_b + \"\\n\" + context  + \"\\n\\n\" + question + sys_e + \"\\n\" + f\"\\nCondition: You draw {access} balls and observe {observ} of them are red. You put all balls back into the urn.\" + sent + inst_e + \"\\n\"\n",
    "    else:\n",
    "        prompt = context_few_shots + \"\\n\" + question_few_shots + sent_few_shots_1+f\" You draw {access} balls and observe {observ} of them are red. You put all balls back to the urn.\" + sent_few_shots_2\n",
    "        if model_type == \"chat\":\n",
    "            prompt = inst_b + \" \" + sys_b + \"\\n\"+ context_few_shots + \"\\n\" + question_few_shots + sys_e +\"\\n\"+ sent_few_shots_1+f\" You draw {access} balls and observe {observ} of them are red. You put all balls back to the urn.\" + sent_few_shots_2 + inst_e +\"\\n\"\n",
    "    answer_probs = get_option_probs(model, tokenizer,prompt)\n",
    "    for opt, prob in answer_probs.items():\n",
    "        results[\"uncertainty\"].append(\"high\")\n",
    "        results[\"access\"].append(access)\n",
    "        results[\"observation\"].append(observ)\n",
    "        results[\"condition\"].append(str(round(observ/access, ndigits=2)))\n",
    "        results[\"option\"].append(expressions[opt])\n",
    "        results[\"option_prob\"].append(prob)\n",
    "        #results[\"max_option\"].append(expressions[max(answer_probs, key=answer_probs.get)])\n",
    "\n",
    "  results_df = pd.DataFrame.from_dict(results)\n",
    "  shot = \"zero-shot\"\n",
    "  if few_shots:\n",
    "    shot = \"few-shots\"\n",
    "  results_df.to_csv(f\"answer_probs_from_{model_type}_model_{shot}.csv\", encoding=\"utf-8\")\n",
    "  return results_df\n"
   ]
  },
  {
   "cell_type": "markdown",
   "metadata": {},
   "source": [
    "Zero Shot"
   ]
  },
  {
   "cell_type": "code",
   "execution_count": 16,
   "metadata": {
    "execution": {
     "iopub.execute_input": "2025-02-27T21:21:50.822528Z",
     "iopub.status.busy": "2025-02-27T21:21:50.822274Z",
     "iopub.status.idle": "2025-02-27T21:22:11.906300Z",
     "shell.execute_reply": "2025-02-27T21:22:11.905320Z",
     "shell.execute_reply.started": "2025-02-27T21:21:50.822506Z"
    },
    "trusted": true
   },
   "outputs": [
    {
     "data": {
      "text/html": [
       "<div>\n",
       "<style scoped>\n",
       "    .dataframe tbody tr th:only-of-type {\n",
       "        vertical-align: middle;\n",
       "    }\n",
       "\n",
       "    .dataframe tbody tr th {\n",
       "        vertical-align: top;\n",
       "    }\n",
       "\n",
       "    .dataframe thead th {\n",
       "        text-align: right;\n",
       "    }\n",
       "</style>\n",
       "<table border=\"1\" class=\"dataframe\">\n",
       "  <thead>\n",
       "    <tr style=\"text-align: right;\">\n",
       "      <th></th>\n",
       "      <th>uncertainty</th>\n",
       "      <th>access</th>\n",
       "      <th>observation</th>\n",
       "      <th>condition</th>\n",
       "      <th>option</th>\n",
       "      <th>option_prob</th>\n",
       "    </tr>\n",
       "  </thead>\n",
       "  <tbody>\n",
       "    <tr>\n",
       "      <th>0</th>\n",
       "      <td>low</td>\n",
       "      <td>10</td>\n",
       "      <td>0</td>\n",
       "      <td>0.0</td>\n",
       "      <td>certainly not</td>\n",
       "      <td>0.431823</td>\n",
       "    </tr>\n",
       "    <tr>\n",
       "      <th>1</th>\n",
       "      <td>low</td>\n",
       "      <td>10</td>\n",
       "      <td>0</td>\n",
       "      <td>0.0</td>\n",
       "      <td>probably not</td>\n",
       "      <td>0.193123</td>\n",
       "    </tr>\n",
       "    <tr>\n",
       "      <th>2</th>\n",
       "      <td>low</td>\n",
       "      <td>10</td>\n",
       "      <td>0</td>\n",
       "      <td>0.0</td>\n",
       "      <td>possibly</td>\n",
       "      <td>0.190129</td>\n",
       "    </tr>\n",
       "    <tr>\n",
       "      <th>3</th>\n",
       "      <td>low</td>\n",
       "      <td>10</td>\n",
       "      <td>0</td>\n",
       "      <td>0.0</td>\n",
       "      <td>probably</td>\n",
       "      <td>0.105823</td>\n",
       "    </tr>\n",
       "    <tr>\n",
       "      <th>4</th>\n",
       "      <td>low</td>\n",
       "      <td>10</td>\n",
       "      <td>0</td>\n",
       "      <td>0.0</td>\n",
       "      <td>certainly</td>\n",
       "      <td>0.079103</td>\n",
       "    </tr>\n",
       "    <tr>\n",
       "      <th>...</th>\n",
       "      <td>...</td>\n",
       "      <td>...</td>\n",
       "      <td>...</td>\n",
       "      <td>...</td>\n",
       "      <td>...</td>\n",
       "      <td>...</td>\n",
       "    </tr>\n",
       "    <tr>\n",
       "      <th>65</th>\n",
       "      <td>high</td>\n",
       "      <td>2</td>\n",
       "      <td>2</td>\n",
       "      <td>1.0</td>\n",
       "      <td>certainly not</td>\n",
       "      <td>0.444085</td>\n",
       "    </tr>\n",
       "    <tr>\n",
       "      <th>66</th>\n",
       "      <td>high</td>\n",
       "      <td>2</td>\n",
       "      <td>2</td>\n",
       "      <td>1.0</td>\n",
       "      <td>probably not</td>\n",
       "      <td>0.190999</td>\n",
       "    </tr>\n",
       "    <tr>\n",
       "      <th>67</th>\n",
       "      <td>high</td>\n",
       "      <td>2</td>\n",
       "      <td>2</td>\n",
       "      <td>1.0</td>\n",
       "      <td>possibly</td>\n",
       "      <td>0.183682</td>\n",
       "    </tr>\n",
       "    <tr>\n",
       "      <th>68</th>\n",
       "      <td>high</td>\n",
       "      <td>2</td>\n",
       "      <td>2</td>\n",
       "      <td>1.0</td>\n",
       "      <td>probably</td>\n",
       "      <td>0.102234</td>\n",
       "    </tr>\n",
       "    <tr>\n",
       "      <th>69</th>\n",
       "      <td>high</td>\n",
       "      <td>2</td>\n",
       "      <td>2</td>\n",
       "      <td>1.0</td>\n",
       "      <td>certainly</td>\n",
       "      <td>0.079000</td>\n",
       "    </tr>\n",
       "  </tbody>\n",
       "</table>\n",
       "<p>70 rows × 6 columns</p>\n",
       "</div>"
      ],
      "text/plain": [
       "   uncertainty  access  observation condition         option  option_prob\n",
       "0          low      10            0       0.0  certainly not     0.431823\n",
       "1          low      10            0       0.0   probably not     0.193123\n",
       "2          low      10            0       0.0       possibly     0.190129\n",
       "3          low      10            0       0.0       probably     0.105823\n",
       "4          low      10            0       0.0      certainly     0.079103\n",
       "..         ...     ...          ...       ...            ...          ...\n",
       "65        high       2            2       1.0  certainly not     0.444085\n",
       "66        high       2            2       1.0   probably not     0.190999\n",
       "67        high       2            2       1.0       possibly     0.183682\n",
       "68        high       2            2       1.0       probably     0.102234\n",
       "69        high       2            2       1.0      certainly     0.079000\n",
       "\n",
       "[70 rows x 6 columns]"
      ]
     },
     "execution_count": 16,
     "metadata": {},
     "output_type": "execute_result"
    }
   ],
   "source": [
    "probs_base_1 = all_to_csv_1(model_base, tokenizer_base)\n",
    "probs_base_1"
   ]
  },
  {
   "cell_type": "code",
   "execution_count": 17,
   "metadata": {
    "execution": {
     "iopub.execute_input": "2025-02-27T21:22:11.907604Z",
     "iopub.status.busy": "2025-02-27T21:22:11.907270Z",
     "iopub.status.idle": "2025-02-27T21:22:35.585251Z",
     "shell.execute_reply": "2025-02-27T21:22:35.584348Z",
     "shell.execute_reply.started": "2025-02-27T21:22:11.907570Z"
    },
    "trusted": true
   },
   "outputs": [
    {
     "data": {
      "text/html": [
       "<div>\n",
       "<style scoped>\n",
       "    .dataframe tbody tr th:only-of-type {\n",
       "        vertical-align: middle;\n",
       "    }\n",
       "\n",
       "    .dataframe tbody tr th {\n",
       "        vertical-align: top;\n",
       "    }\n",
       "\n",
       "    .dataframe thead th {\n",
       "        text-align: right;\n",
       "    }\n",
       "</style>\n",
       "<table border=\"1\" class=\"dataframe\">\n",
       "  <thead>\n",
       "    <tr style=\"text-align: right;\">\n",
       "      <th></th>\n",
       "      <th>uncertainty</th>\n",
       "      <th>access</th>\n",
       "      <th>observation</th>\n",
       "      <th>condition</th>\n",
       "      <th>option</th>\n",
       "      <th>option_prob</th>\n",
       "    </tr>\n",
       "  </thead>\n",
       "  <tbody>\n",
       "    <tr>\n",
       "      <th>0</th>\n",
       "      <td>low</td>\n",
       "      <td>10</td>\n",
       "      <td>0</td>\n",
       "      <td>0.0</td>\n",
       "      <td>certainly not</td>\n",
       "      <td>0.105124</td>\n",
       "    </tr>\n",
       "    <tr>\n",
       "      <th>1</th>\n",
       "      <td>low</td>\n",
       "      <td>10</td>\n",
       "      <td>0</td>\n",
       "      <td>0.0</td>\n",
       "      <td>probably not</td>\n",
       "      <td>0.752866</td>\n",
       "    </tr>\n",
       "    <tr>\n",
       "      <th>2</th>\n",
       "      <td>low</td>\n",
       "      <td>10</td>\n",
       "      <td>0</td>\n",
       "      <td>0.0</td>\n",
       "      <td>possibly</td>\n",
       "      <td>0.021026</td>\n",
       "    </tr>\n",
       "    <tr>\n",
       "      <th>3</th>\n",
       "      <td>low</td>\n",
       "      <td>10</td>\n",
       "      <td>0</td>\n",
       "      <td>0.0</td>\n",
       "      <td>probably</td>\n",
       "      <td>0.029651</td>\n",
       "    </tr>\n",
       "    <tr>\n",
       "      <th>4</th>\n",
       "      <td>low</td>\n",
       "      <td>10</td>\n",
       "      <td>0</td>\n",
       "      <td>0.0</td>\n",
       "      <td>certainly</td>\n",
       "      <td>0.091333</td>\n",
       "    </tr>\n",
       "    <tr>\n",
       "      <th>...</th>\n",
       "      <td>...</td>\n",
       "      <td>...</td>\n",
       "      <td>...</td>\n",
       "      <td>...</td>\n",
       "      <td>...</td>\n",
       "      <td>...</td>\n",
       "    </tr>\n",
       "    <tr>\n",
       "      <th>65</th>\n",
       "      <td>high</td>\n",
       "      <td>2</td>\n",
       "      <td>2</td>\n",
       "      <td>1.0</td>\n",
       "      <td>certainly not</td>\n",
       "      <td>0.126265</td>\n",
       "    </tr>\n",
       "    <tr>\n",
       "      <th>66</th>\n",
       "      <td>high</td>\n",
       "      <td>2</td>\n",
       "      <td>2</td>\n",
       "      <td>1.0</td>\n",
       "      <td>probably not</td>\n",
       "      <td>0.651323</td>\n",
       "    </tr>\n",
       "    <tr>\n",
       "      <th>67</th>\n",
       "      <td>high</td>\n",
       "      <td>2</td>\n",
       "      <td>2</td>\n",
       "      <td>1.0</td>\n",
       "      <td>possibly</td>\n",
       "      <td>0.069187</td>\n",
       "    </tr>\n",
       "    <tr>\n",
       "      <th>68</th>\n",
       "      <td>high</td>\n",
       "      <td>2</td>\n",
       "      <td>2</td>\n",
       "      <td>1.0</td>\n",
       "      <td>probably</td>\n",
       "      <td>0.040043</td>\n",
       "    </tr>\n",
       "    <tr>\n",
       "      <th>69</th>\n",
       "      <td>high</td>\n",
       "      <td>2</td>\n",
       "      <td>2</td>\n",
       "      <td>1.0</td>\n",
       "      <td>certainly</td>\n",
       "      <td>0.113183</td>\n",
       "    </tr>\n",
       "  </tbody>\n",
       "</table>\n",
       "<p>70 rows × 6 columns</p>\n",
       "</div>"
      ],
      "text/plain": [
       "   uncertainty  access  observation condition         option  option_prob\n",
       "0          low      10            0       0.0  certainly not     0.105124\n",
       "1          low      10            0       0.0   probably not     0.752866\n",
       "2          low      10            0       0.0       possibly     0.021026\n",
       "3          low      10            0       0.0       probably     0.029651\n",
       "4          low      10            0       0.0      certainly     0.091333\n",
       "..         ...     ...          ...       ...            ...          ...\n",
       "65        high       2            2       1.0  certainly not     0.126265\n",
       "66        high       2            2       1.0   probably not     0.651323\n",
       "67        high       2            2       1.0       possibly     0.069187\n",
       "68        high       2            2       1.0       probably     0.040043\n",
       "69        high       2            2       1.0      certainly     0.113183\n",
       "\n",
       "[70 rows x 6 columns]"
      ]
     },
     "execution_count": 17,
     "metadata": {},
     "output_type": "execute_result"
    }
   ],
   "source": [
    "probs_chat_1 = all_to_csv_1(model_chat, tokenizer_chat, model_type=\"chat\")\n",
    "probs_chat_1"
   ]
  },
  {
   "cell_type": "code",
   "execution_count": 18,
   "metadata": {
    "execution": {
     "iopub.execute_input": "2025-02-27T21:22:35.586538Z",
     "iopub.status.busy": "2025-02-27T21:22:35.586171Z",
     "iopub.status.idle": "2025-02-27T21:22:36.758759Z",
     "shell.execute_reply": "2025-02-27T21:22:36.757891Z",
     "shell.execute_reply.started": "2025-02-27T21:22:35.586502Z"
    },
    "trusted": true
   },
   "outputs": [
    {
     "data": {
      "text/plain": [
       "<seaborn.axisgrid.FacetGrid at 0x7b6e0b4634f0>"
      ]
     },
     "execution_count": 18,
     "metadata": {},
     "output_type": "execute_result"
    },
    {
     "data": {
      "image/png": "[encoded data removed]",
      "text/plain": [
       "<Figure size 752.125x300 with 2 Axes>"
      ]
     },
     "metadata": {},
     "output_type": "display_data"
    }
   ],
   "source": [
    "import seaborn as sns\n",
    "import matplotlib.pyplot as plt\n",
    "sns.set(style=\"ticks\", rc={\"lines.linewidth\": 0.9})\n",
    "g = sns.FacetGrid(data=probs_base_1, col=\"uncertainty\", hue=\"option\", col_wrap=2)\n",
    "g.map_dataframe(sns.pointplot, x=\"condition\", y=\"option_prob\")\n",
    "g.add_legend(title=\"Options:\")\n",
    "#plt.legend(loc=\"upper right\", bbox_to_anchor=(1, 1))\n",
    "#plt.show()"
   ]
  },
  {
   "cell_type": "code",
   "execution_count": 19,
   "metadata": {
    "execution": {
     "iopub.execute_input": "2025-02-27T21:22:36.760154Z",
     "iopub.status.busy": "2025-02-27T21:22:36.759591Z",
     "iopub.status.idle": "2025-02-27T21:22:37.599580Z",
     "shell.execute_reply": "2025-02-27T21:22:37.598657Z",
     "shell.execute_reply.started": "2025-02-27T21:22:36.760126Z"
    },
    "trusted": true
   },
   "outputs": [
    {
     "data": {
      "text/plain": [
       "<seaborn.axisgrid.FacetGrid at 0x7b6cfa43f460>"
      ]
     },
     "execution_count": 19,
     "metadata": {},
     "output_type": "execute_result"
    },
    {
     "data": {
      "image/png": "[encoded data removed]",
      "text/plain": [
       "<Figure size 752.125x300 with 2 Axes>"
      ]
     },
     "metadata": {},
     "output_type": "display_data"
    }
   ],
   "source": [
    "sns.set(style=\"ticks\", rc={\"lines.linewidth\": 0.9})\n",
    "g = sns.FacetGrid(data=probs_chat_1, col=\"uncertainty\", hue=\"option\", col_wrap=2)\n",
    "g.map_dataframe(sns.pointplot, x=\"condition\", y=\"option_prob\", markers=[\"o\", \"s\"])\n",
    "g.add_legend(title=\"Options:\")"
   ]
  },
  {
   "cell_type": "markdown",
   "metadata": {},
   "source": [
    "Few Shots"
   ]
  },
  {
   "cell_type": "code",
   "execution_count": 20,
   "metadata": {
    "execution": {
     "iopub.execute_input": "2025-02-27T21:22:37.601019Z",
     "iopub.status.busy": "2025-02-27T21:22:37.600654Z",
     "iopub.status.idle": "2025-02-27T21:23:35.836477Z",
     "shell.execute_reply": "2025-02-27T21:23:35.835464Z",
     "shell.execute_reply.started": "2025-02-27T21:22:37.600985Z"
    },
    "trusted": true
   },
   "outputs": [
    {
     "data": {
      "text/html": [
       "<div>\n",
       "<style scoped>\n",
       "    .dataframe tbody tr th:only-of-type {\n",
       "        vertical-align: middle;\n",
       "    }\n",
       "\n",
       "    .dataframe tbody tr th {\n",
       "        vertical-align: top;\n",
       "    }\n",
       "\n",
       "    .dataframe thead th {\n",
       "        text-align: right;\n",
       "    }\n",
       "</style>\n",
       "<table border=\"1\" class=\"dataframe\">\n",
       "  <thead>\n",
       "    <tr style=\"text-align: right;\">\n",
       "      <th></th>\n",
       "      <th>uncertainty</th>\n",
       "      <th>access</th>\n",
       "      <th>observation</th>\n",
       "      <th>condition</th>\n",
       "      <th>option</th>\n",
       "      <th>option_prob</th>\n",
       "    </tr>\n",
       "  </thead>\n",
       "  <tbody>\n",
       "    <tr>\n",
       "      <th>0</th>\n",
       "      <td>low</td>\n",
       "      <td>10</td>\n",
       "      <td>0</td>\n",
       "      <td>0.0</td>\n",
       "      <td>certainly not</td>\n",
       "      <td>0.628132</td>\n",
       "    </tr>\n",
       "    <tr>\n",
       "      <th>1</th>\n",
       "      <td>low</td>\n",
       "      <td>10</td>\n",
       "      <td>0</td>\n",
       "      <td>0.0</td>\n",
       "      <td>probably not</td>\n",
       "      <td>0.145738</td>\n",
       "    </tr>\n",
       "    <tr>\n",
       "      <th>2</th>\n",
       "      <td>low</td>\n",
       "      <td>10</td>\n",
       "      <td>0</td>\n",
       "      <td>0.0</td>\n",
       "      <td>possibly</td>\n",
       "      <td>0.068842</td>\n",
       "    </tr>\n",
       "    <tr>\n",
       "      <th>3</th>\n",
       "      <td>low</td>\n",
       "      <td>10</td>\n",
       "      <td>0</td>\n",
       "      <td>0.0</td>\n",
       "      <td>probably</td>\n",
       "      <td>0.095578</td>\n",
       "    </tr>\n",
       "    <tr>\n",
       "      <th>4</th>\n",
       "      <td>low</td>\n",
       "      <td>10</td>\n",
       "      <td>0</td>\n",
       "      <td>0.0</td>\n",
       "      <td>certainly</td>\n",
       "      <td>0.061710</td>\n",
       "    </tr>\n",
       "    <tr>\n",
       "      <th>...</th>\n",
       "      <td>...</td>\n",
       "      <td>...</td>\n",
       "      <td>...</td>\n",
       "      <td>...</td>\n",
       "      <td>...</td>\n",
       "      <td>...</td>\n",
       "    </tr>\n",
       "    <tr>\n",
       "      <th>65</th>\n",
       "      <td>high</td>\n",
       "      <td>2</td>\n",
       "      <td>2</td>\n",
       "      <td>1.0</td>\n",
       "      <td>certainly not</td>\n",
       "      <td>0.626627</td>\n",
       "    </tr>\n",
       "    <tr>\n",
       "      <th>66</th>\n",
       "      <td>high</td>\n",
       "      <td>2</td>\n",
       "      <td>2</td>\n",
       "      <td>1.0</td>\n",
       "      <td>probably not</td>\n",
       "      <td>0.143135</td>\n",
       "    </tr>\n",
       "    <tr>\n",
       "      <th>67</th>\n",
       "      <td>high</td>\n",
       "      <td>2</td>\n",
       "      <td>2</td>\n",
       "      <td>1.0</td>\n",
       "      <td>possibly</td>\n",
       "      <td>0.070857</td>\n",
       "    </tr>\n",
       "    <tr>\n",
       "      <th>68</th>\n",
       "      <td>high</td>\n",
       "      <td>2</td>\n",
       "      <td>2</td>\n",
       "      <td>1.0</td>\n",
       "      <td>probably</td>\n",
       "      <td>0.096850</td>\n",
       "    </tr>\n",
       "    <tr>\n",
       "      <th>69</th>\n",
       "      <td>high</td>\n",
       "      <td>2</td>\n",
       "      <td>2</td>\n",
       "      <td>1.0</td>\n",
       "      <td>certainly</td>\n",
       "      <td>0.062531</td>\n",
       "    </tr>\n",
       "  </tbody>\n",
       "</table>\n",
       "<p>70 rows × 6 columns</p>\n",
       "</div>"
      ],
      "text/plain": [
       "   uncertainty  access  observation condition         option  option_prob\n",
       "0          low      10            0       0.0  certainly not     0.628132\n",
       "1          low      10            0       0.0   probably not     0.145738\n",
       "2          low      10            0       0.0       possibly     0.068842\n",
       "3          low      10            0       0.0       probably     0.095578\n",
       "4          low      10            0       0.0      certainly     0.061710\n",
       "..         ...     ...          ...       ...            ...          ...\n",
       "65        high       2            2       1.0  certainly not     0.626627\n",
       "66        high       2            2       1.0   probably not     0.143135\n",
       "67        high       2            2       1.0       possibly     0.070857\n",
       "68        high       2            2       1.0       probably     0.096850\n",
       "69        high       2            2       1.0      certainly     0.062531\n",
       "\n",
       "[70 rows x 6 columns]"
      ]
     },
     "execution_count": 20,
     "metadata": {},
     "output_type": "execute_result"
    }
   ],
   "source": [
    "probs_few_shots_base_1 = all_to_csv_1(model_base, tokenizer_base, few_shots=True)\n",
    "probs_few_shots_base_1"
   ]
  },
  {
   "cell_type": "code",
   "execution_count": 21,
   "metadata": {
    "execution": {
     "iopub.execute_input": "2025-02-27T21:23:35.837758Z",
     "iopub.status.busy": "2025-02-27T21:23:35.837477Z",
     "iopub.status.idle": "2025-02-27T21:24:33.771424Z",
     "shell.execute_reply": "2025-02-27T21:24:33.770470Z",
     "shell.execute_reply.started": "2025-02-27T21:23:35.837737Z"
    },
    "trusted": true
   },
   "outputs": [
    {
     "data": {
      "text/html": [
       "<div>\n",
       "<style scoped>\n",
       "    .dataframe tbody tr th:only-of-type {\n",
       "        vertical-align: middle;\n",
       "    }\n",
       "\n",
       "    .dataframe tbody tr th {\n",
       "        vertical-align: top;\n",
       "    }\n",
       "\n",
       "    .dataframe thead th {\n",
       "        text-align: right;\n",
       "    }\n",
       "</style>\n",
       "<table border=\"1\" class=\"dataframe\">\n",
       "  <thead>\n",
       "    <tr style=\"text-align: right;\">\n",
       "      <th></th>\n",
       "      <th>uncertainty</th>\n",
       "      <th>access</th>\n",
       "      <th>observation</th>\n",
       "      <th>condition</th>\n",
       "      <th>option</th>\n",
       "      <th>option_prob</th>\n",
       "    </tr>\n",
       "  </thead>\n",
       "  <tbody>\n",
       "    <tr>\n",
       "      <th>0</th>\n",
       "      <td>low</td>\n",
       "      <td>10</td>\n",
       "      <td>0</td>\n",
       "      <td>0.0</td>\n",
       "      <td>certainly not</td>\n",
       "      <td>0.390062</td>\n",
       "    </tr>\n",
       "    <tr>\n",
       "      <th>1</th>\n",
       "      <td>low</td>\n",
       "      <td>10</td>\n",
       "      <td>0</td>\n",
       "      <td>0.0</td>\n",
       "      <td>probably not</td>\n",
       "      <td>0.006379</td>\n",
       "    </tr>\n",
       "    <tr>\n",
       "      <th>2</th>\n",
       "      <td>low</td>\n",
       "      <td>10</td>\n",
       "      <td>0</td>\n",
       "      <td>0.0</td>\n",
       "      <td>possibly</td>\n",
       "      <td>0.594773</td>\n",
       "    </tr>\n",
       "    <tr>\n",
       "      <th>3</th>\n",
       "      <td>low</td>\n",
       "      <td>10</td>\n",
       "      <td>0</td>\n",
       "      <td>0.0</td>\n",
       "      <td>probably</td>\n",
       "      <td>0.002205</td>\n",
       "    </tr>\n",
       "    <tr>\n",
       "      <th>4</th>\n",
       "      <td>low</td>\n",
       "      <td>10</td>\n",
       "      <td>0</td>\n",
       "      <td>0.0</td>\n",
       "      <td>certainly</td>\n",
       "      <td>0.006582</td>\n",
       "    </tr>\n",
       "    <tr>\n",
       "      <th>...</th>\n",
       "      <td>...</td>\n",
       "      <td>...</td>\n",
       "      <td>...</td>\n",
       "      <td>...</td>\n",
       "      <td>...</td>\n",
       "      <td>...</td>\n",
       "    </tr>\n",
       "    <tr>\n",
       "      <th>65</th>\n",
       "      <td>high</td>\n",
       "      <td>2</td>\n",
       "      <td>2</td>\n",
       "      <td>1.0</td>\n",
       "      <td>certainly not</td>\n",
       "      <td>0.272826</td>\n",
       "    </tr>\n",
       "    <tr>\n",
       "      <th>66</th>\n",
       "      <td>high</td>\n",
       "      <td>2</td>\n",
       "      <td>2</td>\n",
       "      <td>1.0</td>\n",
       "      <td>probably not</td>\n",
       "      <td>0.006416</td>\n",
       "    </tr>\n",
       "    <tr>\n",
       "      <th>67</th>\n",
       "      <td>high</td>\n",
       "      <td>2</td>\n",
       "      <td>2</td>\n",
       "      <td>1.0</td>\n",
       "      <td>possibly</td>\n",
       "      <td>0.713207</td>\n",
       "    </tr>\n",
       "    <tr>\n",
       "      <th>68</th>\n",
       "      <td>high</td>\n",
       "      <td>2</td>\n",
       "      <td>2</td>\n",
       "      <td>1.0</td>\n",
       "      <td>probably</td>\n",
       "      <td>0.001754</td>\n",
       "    </tr>\n",
       "    <tr>\n",
       "      <th>69</th>\n",
       "      <td>high</td>\n",
       "      <td>2</td>\n",
       "      <td>2</td>\n",
       "      <td>1.0</td>\n",
       "      <td>certainly</td>\n",
       "      <td>0.005797</td>\n",
       "    </tr>\n",
       "  </tbody>\n",
       "</table>\n",
       "<p>70 rows × 6 columns</p>\n",
       "</div>"
      ],
      "text/plain": [
       "   uncertainty  access  observation condition         option  option_prob\n",
       "0          low      10            0       0.0  certainly not     0.390062\n",
       "1          low      10            0       0.0   probably not     0.006379\n",
       "2          low      10            0       0.0       possibly     0.594773\n",
       "3          low      10            0       0.0       probably     0.002205\n",
       "4          low      10            0       0.0      certainly     0.006582\n",
       "..         ...     ...          ...       ...            ...          ...\n",
       "65        high       2            2       1.0  certainly not     0.272826\n",
       "66        high       2            2       1.0   probably not     0.006416\n",
       "67        high       2            2       1.0       possibly     0.713207\n",
       "68        high       2            2       1.0       probably     0.001754\n",
       "69        high       2            2       1.0      certainly     0.005797\n",
       "\n",
       "[70 rows x 6 columns]"
      ]
     },
     "execution_count": 21,
     "metadata": {},
     "output_type": "execute_result"
    }
   ],
   "source": [
    "probs_few_shots_chat_1 = all_to_csv_1(model_chat, tokenizer_chat, few_shots=True, model_type=\"chat\")\n",
    "probs_few_shots_chat_1"
   ]
  },
  {
   "cell_type": "code",
   "execution_count": 22,
   "metadata": {
    "execution": {
     "iopub.execute_input": "2025-02-27T21:24:33.772706Z",
     "iopub.status.busy": "2025-02-27T21:24:33.772407Z",
     "iopub.status.idle": "2025-02-27T21:24:34.595726Z",
     "shell.execute_reply": "2025-02-27T21:24:34.594792Z",
     "shell.execute_reply.started": "2025-02-27T21:24:33.772684Z"
    },
    "trusted": true
   },
   "outputs": [
    {
     "data": {
      "text/plain": [
       "<seaborn.axisgrid.FacetGrid at 0x7b6cf0582d70>"
      ]
     },
     "execution_count": 22,
     "metadata": {},
     "output_type": "execute_result"
    },
    {
     "data": {
      "image/png": "[encoded data removed]",
      "text/plain": [
       "<Figure size 752.125x300 with 2 Axes>"
      ]
     },
     "metadata": {},
     "output_type": "display_data"
    }
   ],
   "source": [
    "sns.set(style=\"ticks\", rc={\"lines.linewidth\": 0.9})\n",
    "g = sns.FacetGrid(data=probs_few_shots_base_1, col=\"uncertainty\", hue=\"option\", col_wrap=2)\n",
    "g.map_dataframe(sns.pointplot, x=\"condition\", y=\"option_prob\", markers=\"o\", linestyles=[\"-\",\"--\",\"+\",\"~\",\"-+\"])\n",
    "g.add_legend(title=\"Options:\")"
   ]
  },
  {
   "cell_type": "code",
   "execution_count": 23,
   "metadata": {
    "execution": {
     "iopub.execute_input": "2025-02-27T21:24:34.599722Z",
     "iopub.status.busy": "2025-02-27T21:24:34.599458Z",
     "iopub.status.idle": "2025-02-27T21:24:35.426662Z",
     "shell.execute_reply": "2025-02-27T21:24:35.425731Z",
     "shell.execute_reply.started": "2025-02-27T21:24:34.599699Z"
    },
    "trusted": true
   },
   "outputs": [
    {
     "data": {
      "text/plain": [
       "<seaborn.axisgrid.FacetGrid at 0x7b6cf934a8f0>"
      ]
     },
     "execution_count": 23,
     "metadata": {},
     "output_type": "execute_result"
    },
    {
     "data": {
      "image/png": "[encoded data removed]",
      "text/plain": [
       "<Figure size 752.125x300 with 2 Axes>"
      ]
     },
     "metadata": {},
     "output_type": "display_data"
    }
   ],
   "source": [
    "sns.set(style=\"ticks\", rc={\"lines.linewidth\": 0.9})\n",
    "g = sns.FacetGrid(data=probs_few_shots_chat_1, col=\"uncertainty\", hue=\"option\", col_wrap=2)\n",
    "g.map_dataframe(sns.pointplot, x=\"condition\", y=\"option_prob\", markers=\"o\", linestyles=[\"-\",\"--\",\"+\",\"~\",\"-+\"])\n",
    "g.add_legend(title=\"Options:\")"
   ]
  },
  {
   "cell_type": "code",
   "execution_count": 24,
   "metadata": {
    "execution": {
     "iopub.execute_input": "2025-02-27T21:24:35.428112Z",
     "iopub.status.busy": "2025-02-27T21:24:35.427886Z",
     "iopub.status.idle": "2025-02-27T21:24:36.695884Z",
     "shell.execute_reply": "2025-02-27T21:24:36.695059Z",
     "shell.execute_reply.started": "2025-02-27T21:24:35.428090Z"
    },
    "trusted": true
   },
   "outputs": [
    {
     "data": {
      "text/plain": [
       "{'15': 0.9474046712934568,\n",
       " '30': 0.03588390337979978,\n",
       " '20': 0.016687564830436527,\n",
       " '0': 1.1046422281474832e-05,\n",
       " 'a': 1.2814074025259317e-05}"
      ]
     },
     "execution_count": 24,
     "metadata": {},
     "output_type": "execute_result"
    }
   ],
   "source": [
    "prompt_math = \"\"\"[INST] <<SYS>> \n",
    "You are an assistant good at counting. You only output the final answer without reasoning: \n",
    "<</SYS>>\n",
    "\n",
    "Question: 10*1.5=\n",
    "Answer: \n",
    "[/INST]\n",
    "\"\"\"\n",
    "get_option_probs(model_chat, tokenizer_chat, prompt_math, options=[\"15\", \"30\", \"20\", \"0\", \"a\"])"
   ]
  },
  {
   "cell_type": "markdown",
   "metadata": {},
   "source": [
    "#### Model generation"
   ]
  },
  {
   "cell_type": "code",
   "execution_count": 25,
   "metadata": {
    "execution": {
     "iopub.execute_input": "2025-02-27T21:24:36.697165Z",
     "iopub.status.busy": "2025-02-27T21:24:36.696831Z",
     "iopub.status.idle": "2025-02-27T21:24:36.704172Z",
     "shell.execute_reply": "2025-02-27T21:24:36.703364Z",
     "shell.execute_reply.started": "2025-02-27T21:24:36.697125Z"
    },
    "trusted": true
   },
   "outputs": [],
   "source": [
    "def get_Ngenerated_answer_logprobs(model, tokenizer, prompt, n=100, choices=[\"A\", \"B\", \"C\", \"D\", \"E\"]):\n",
    "    tokenizer.pad_token_id = tokenizer.eos_token_id\n",
    "    bad_words = [\" \", \"\\n\", \"<s>\", \"</s>\", \"\\\\\", \"\\n\\n\", \"Answer\"]\n",
    "    inputs = tokenizer(prompt, return_tensors=\"pt\").to(device)\n",
    "    n_generated_answers = []\n",
    "    for i in range(n):\n",
    "        # Generate one token \n",
    "        with torch.no_grad():\n",
    "            output = model.generate(\n",
    "                **inputs,\n",
    "                pad_token_id = tokenizer.eos_token_id,\n",
    "                eos_token_id = tokenizer.eos_token_id,\n",
    "                max_new_tokens=1,  # Generate only one token\n",
    "                return_dict_in_generate=True,\n",
    "                output_scores=True,\n",
    "                temperature=1.0,\n",
    "                top_k = 50,\n",
    "                bad_words_ids=tokenizer(bad_words, add_special_tokens=False).input_ids\n",
    "            )\n",
    "        generated_token_id = output.sequences[0][-1].item()\n",
    "        generated_token = tokenizer.decode(generated_token_id)\n",
    "        #print(generated_token_id, generated_token)\n",
    "        #print(tokenizer.decode(output.sequences[0]))\n",
    "        # Compute log probabilities, take the first token because it should only generated one token\n",
    "        #print(\"output score:\", output.scores, output.scores[0].shape, inputs.input_ids.shape, len(prompt.split()))\n",
    "\n",
    "        logits = output.scores[0][0]  # Shape: (vocab_size,)\n",
    "        log_probs = torch.log_softmax(logits, dim=-1)  # Convert logits to log probabilities\n",
    "        #print(\"log prob argmax:\", torch.argmax(log_probs).item())\n",
    "        #print(\"argmax token:\", tokenizer.decode(torch.argmax(log_probs)))\n",
    "        # Extract log probabilities for the generated token \n",
    "        answer_logprob = log_probs[generated_token_id].item()\n",
    "        n_generated_answers.append((generated_token, answer_logprob))\n",
    "            \n",
    "    return n_generated_answers"
   ]
  },
  {
   "cell_type": "code",
   "execution_count": 26,
   "metadata": {
    "execution": {
     "iopub.execute_input": "2025-02-27T21:24:36.705255Z",
     "iopub.status.busy": "2025-02-27T21:24:36.704985Z",
     "iopub.status.idle": "2025-02-27T21:24:38.595062Z",
     "shell.execute_reply": "2025-02-27T21:24:38.594249Z",
     "shell.execute_reply.started": "2025-02-27T21:24:36.705227Z"
    },
    "trusted": true
   },
   "outputs": [
    {
     "name": "stderr",
     "output_type": "stream",
     "text": [
      "From v4.47 onwards, when a model cache is to be returned, `generate` will return a `Cache` instance instead by default (as opposed to the legacy tuple of tuples format). If you want to keep returning the legacy format, please set `return_legacy_cache=True`.\n"
     ]
    },
    {
     "data": {
      "text/plain": [
       "[('B', -3.296546697616577)]"
      ]
     },
     "execution_count": 26,
     "metadata": {},
     "output_type": "execute_result"
    }
   ],
   "source": [
    "generated_choices = get_Ngenerated_answer_logprobs(model_base, tokenizer_base, prompt_sample_base, n=1)\n",
    "generated_choices"
   ]
  },
  {
   "cell_type": "code",
   "execution_count": 27,
   "metadata": {
    "execution": {
     "iopub.execute_input": "2025-02-27T21:24:38.596158Z",
     "iopub.status.busy": "2025-02-27T21:24:38.595861Z",
     "iopub.status.idle": "2025-02-27T21:24:38.961788Z",
     "shell.execute_reply": "2025-02-27T21:24:38.960972Z",
     "shell.execute_reply.started": "2025-02-27T21:24:38.596133Z"
    },
    "trusted": true
   },
   "outputs": [
    {
     "data": {
      "text/plain": [
       "[('C', -3.22946834564209)]"
      ]
     },
     "execution_count": 27,
     "metadata": {},
     "output_type": "execute_result"
    }
   ],
   "source": [
    "generated_choices_chat = get_Ngenerated_answer_logprobs(model_chat, tokenizer_chat, prompt_sample_chat, n=1)\n",
    "generated_choices_chat"
   ]
  },
  {
   "cell_type": "code",
   "execution_count": 28,
   "metadata": {
    "execution": {
     "iopub.execute_input": "2025-02-27T21:24:38.962731Z",
     "iopub.status.busy": "2025-02-27T21:24:38.962518Z",
     "iopub.status.idle": "2025-02-27T21:24:39.759923Z",
     "shell.execute_reply": "2025-02-27T21:24:39.759020Z",
     "shell.execute_reply.started": "2025-02-27T21:24:38.962713Z"
    },
    "trusted": true
   },
   "outputs": [
    {
     "data": {
      "text/plain": [
       "[('The', -2.612328052520752)]"
      ]
     },
     "execution_count": 28,
     "metadata": {},
     "output_type": "execute_result"
    }
   ],
   "source": [
    "generated_choices_few_shots = get_Ngenerated_answer_logprobs(model_base, tokenizer_base, prompt_few_shots_sample_base, n=1)\n",
    "generated_choices_few_shots"
   ]
  },
  {
   "cell_type": "code",
   "execution_count": 29,
   "metadata": {
    "execution": {
     "iopub.execute_input": "2025-02-27T21:24:39.761003Z",
     "iopub.status.busy": "2025-02-27T21:24:39.760766Z",
     "iopub.status.idle": "2025-02-27T21:24:40.567637Z",
     "shell.execute_reply": "2025-02-27T21:24:40.566766Z",
     "shell.execute_reply.started": "2025-02-27T21:24:39.760983Z"
    },
    "trusted": true
   },
   "outputs": [
    {
     "data": {
      "text/plain": [
       "[('Condition', -1.3774144649505615)]"
      ]
     },
     "execution_count": 29,
     "metadata": {},
     "output_type": "execute_result"
    }
   ],
   "source": [
    "generated_choices_few_shots_chat = get_Ngenerated_answer_logprobs(model_chat, tokenizer_chat, prompt_few_shots_sample_chat, n=1)\n",
    "generated_choices_few_shots_chat"
   ]
  },
  {
   "cell_type": "code",
   "execution_count": 30,
   "metadata": {
    "execution": {
     "iopub.execute_input": "2025-02-27T21:24:40.568808Z",
     "iopub.status.busy": "2025-02-27T21:24:40.568531Z",
     "iopub.status.idle": "2025-02-27T21:24:40.581311Z",
     "shell.execute_reply": "2025-02-27T21:24:40.580356Z",
     "shell.execute_reply.started": "2025-02-27T21:24:40.568777Z"
    },
    "trusted": true
   },
   "outputs": [],
   "source": [
    "def Ngenerated_to_csv(model, tokenizer, n=100, few_shots=False, model_type=\"base\"):\n",
    "    results = {\"uncertainty\":[], \"access\":[], \"observation\":[], \"condition\":[], \"generated_answer\":[], \"generated_answer_logprob\":[]}\n",
    "    for access, observ in low:\n",
    "        if not few_shots:\n",
    "            prompt = context  + \"\\n\\n\" + question + \"\\n\" + f\"\\nCondition: You draw {access} balls and observe {observ} of them are red. You put all balls back into the urn.\" + sent \n",
    "            if model_type == \"chat\":\n",
    "                prompt = inst_b + \" \" + sys_b + \"\\n\" + context  + \"\\n\\n\" + question + sys_e + \"\\n\" + f\"\\nCondition: You draw {access} balls and observe {observ} of them are red. You put all balls back into the urn.\" + sent + inst_e + \"\\n\"\n",
    "        else:\n",
    "            prompt = context_few_shots + \"\\n\" + question_few_shots + sent_few_shots_1+f\" You draw {access} balls and observe {observ} of them are red. You put all balls back to the urn.\" + sent_few_shots_2\n",
    "            if model_type == \"chat\":\n",
    "                prompt = inst_b + \" \" + sys_b + \"\\n\"+ context_few_shots + \"\\n\" + question_few_shots + sys_e +\"\\n\"+ sent_few_shots_1+f\" You draw {access} balls and observe {observ} of them are red. You put all balls back to the urn.\" + sent_few_shots_2 + inst_e +\"\\n\"\n",
    "        n_generated_answers = get_Ngenerated_answer_logprobs(model, tokenizer, prompt, n=n)\n",
    "        for generated_token, token_logprob in n_generated_answers:\n",
    "            if generated_token not in [\"A\", \"B\", \"C\", \"D\", \"E\"]:\n",
    "                generated_token = \"others\"\n",
    "            results[\"uncertainty\"].append(\"low\")\n",
    "            results[\"access\"].append(access)\n",
    "            results[\"observation\"].append(observ)\n",
    "            results[\"condition\"].append(str(round(observ/access, ndigits=2)))\n",
    "            results[\"generated_answer\"].append(expressions[generated_token])\n",
    "            results[\"generated_answer_logprob\"].append(token_logprob)\n",
    "\n",
    "    for access, observ in high:\n",
    "        if not few_shots:\n",
    "            prompt = context  + \"\\n\\n\" + question + \"\\n\" + f\"\\nCondition: You draw {access} balls and observe {observ} of them are red. You put all balls back into the urn.\" + sent \n",
    "            if model_type == \"chat\":\n",
    "                prompt = inst_b + \" \" + sys_b + \"\\n\" + context  + \"\\n\\n\" + question + sys_e + \"\\n\" + f\"\\nCondition: You draw {access} balls and observe {observ} of them are red. You put all balls back into the urn.\" + sent + inst_e + \"\\n\"\n",
    "        else:\n",
    "            prompt = context_few_shots + \"\\n\" + question_few_shots + sent_few_shots_1+f\" You draw {access} balls and observe {observ} of them are red. You put all balls back to the urn.\" + sent_few_shots_2\n",
    "            if model_type == \"chat\":\n",
    "                prompt = inst_b + \" \" + sys_b + \"\\n\"+ context_few_shots + \"\\n\" + question_few_shots + sys_e +\"\\n\"+ sent_few_shots_1+f\" You draw {access} balls and observe {observ} of them are red. You put all balls back to the urn.\" + sent_few_shots_2 + inst_e +\"\\n\"\n",
    "        n_generated_answers = get_Ngenerated_answer_logprobs(model, tokenizer, prompt, n=n)\n",
    "        for generated_token, token_logprob in n_generated_answers:\n",
    "            if generated_token not in [\"A\", \"B\", \"C\", \"D\", \"E\"]:\n",
    "                generated_token = \"others\"\n",
    "            results[\"uncertainty\"].append(\"high\")\n",
    "            results[\"access\"].append(access)\n",
    "            results[\"observation\"].append(observ)\n",
    "            results[\"condition\"].append(str(round(observ/access, ndigits=2)))\n",
    "            results[\"generated_answer\"].append(expressions[generated_token])\n",
    "            results[\"generated_answer_logprob\"].append(token_logprob)\n",
    "\n",
    "\n",
    "    results_df = pd.DataFrame.from_dict(results)\n",
    "    shot = \"zero-shot\"\n",
    "    if few_shots:\n",
    "        shot = \"few-shots\"\n",
    "    results_df.to_csv(f\"generated_answer_logprobs_{model_type}_{shot}.csv\", encoding=\"utf-8\")\n",
    "    return results_df "
   ]
  },
  {
   "cell_type": "code",
   "execution_count": 31,
   "metadata": {
    "execution": {
     "iopub.execute_input": "2025-02-27T21:24:40.582467Z",
     "iopub.status.busy": "2025-02-27T21:24:40.582137Z",
     "iopub.status.idle": "2025-02-27T21:33:31.425316Z",
     "shell.execute_reply": "2025-02-27T21:33:31.424315Z",
     "shell.execute_reply.started": "2025-02-27T21:24:40.582444Z"
    },
    "trusted": true
   },
   "outputs": [
    {
     "data": {
      "text/html": [
       "<div>\n",
       "<style scoped>\n",
       "    .dataframe tbody tr th:only-of-type {\n",
       "        vertical-align: middle;\n",
       "    }\n",
       "\n",
       "    .dataframe tbody tr th {\n",
       "        vertical-align: top;\n",
       "    }\n",
       "\n",
       "    .dataframe thead th {\n",
       "        text-align: right;\n",
       "    }\n",
       "</style>\n",
       "<table border=\"1\" class=\"dataframe\">\n",
       "  <thead>\n",
       "    <tr style=\"text-align: right;\">\n",
       "      <th></th>\n",
       "      <th>uncertainty</th>\n",
       "      <th>access</th>\n",
       "      <th>observation</th>\n",
       "      <th>condition</th>\n",
       "      <th>generated_answer</th>\n",
       "      <th>generated_answer_logprob</th>\n",
       "    </tr>\n",
       "  </thead>\n",
       "  <tbody>\n",
       "    <tr>\n",
       "      <th>0</th>\n",
       "      <td>low</td>\n",
       "      <td>10</td>\n",
       "      <td>0</td>\n",
       "      <td>0.0</td>\n",
       "      <td>others</td>\n",
       "      <td>-2.714986</td>\n",
       "    </tr>\n",
       "    <tr>\n",
       "      <th>1</th>\n",
       "      <td>low</td>\n",
       "      <td>10</td>\n",
       "      <td>0</td>\n",
       "      <td>0.0</td>\n",
       "      <td>others</td>\n",
       "      <td>-3.543111</td>\n",
       "    </tr>\n",
       "    <tr>\n",
       "      <th>2</th>\n",
       "      <td>low</td>\n",
       "      <td>10</td>\n",
       "      <td>0</td>\n",
       "      <td>0.0</td>\n",
       "      <td>possibly</td>\n",
       "      <td>-3.089986</td>\n",
       "    </tr>\n",
       "    <tr>\n",
       "      <th>3</th>\n",
       "      <td>low</td>\n",
       "      <td>10</td>\n",
       "      <td>0</td>\n",
       "      <td>0.0</td>\n",
       "      <td>probably not</td>\n",
       "      <td>-3.074361</td>\n",
       "    </tr>\n",
       "    <tr>\n",
       "      <th>4</th>\n",
       "      <td>low</td>\n",
       "      <td>10</td>\n",
       "      <td>0</td>\n",
       "      <td>0.0</td>\n",
       "      <td>others</td>\n",
       "      <td>-0.722799</td>\n",
       "    </tr>\n",
       "    <tr>\n",
       "      <th>...</th>\n",
       "      <td>...</td>\n",
       "      <td>...</td>\n",
       "      <td>...</td>\n",
       "      <td>...</td>\n",
       "      <td>...</td>\n",
       "      <td>...</td>\n",
       "    </tr>\n",
       "    <tr>\n",
       "      <th>1395</th>\n",
       "      <td>high</td>\n",
       "      <td>2</td>\n",
       "      <td>2</td>\n",
       "      <td>1.0</td>\n",
       "      <td>others</td>\n",
       "      <td>-0.704995</td>\n",
       "    </tr>\n",
       "    <tr>\n",
       "      <th>1396</th>\n",
       "      <td>high</td>\n",
       "      <td>2</td>\n",
       "      <td>2</td>\n",
       "      <td>1.0</td>\n",
       "      <td>others</td>\n",
       "      <td>-0.704995</td>\n",
       "    </tr>\n",
       "    <tr>\n",
       "      <th>1397</th>\n",
       "      <td>high</td>\n",
       "      <td>2</td>\n",
       "      <td>2</td>\n",
       "      <td>1.0</td>\n",
       "      <td>others</td>\n",
       "      <td>-0.704995</td>\n",
       "    </tr>\n",
       "    <tr>\n",
       "      <th>1398</th>\n",
       "      <td>high</td>\n",
       "      <td>2</td>\n",
       "      <td>2</td>\n",
       "      <td>1.0</td>\n",
       "      <td>certainly not</td>\n",
       "      <td>-2.236245</td>\n",
       "    </tr>\n",
       "    <tr>\n",
       "      <th>1399</th>\n",
       "      <td>high</td>\n",
       "      <td>2</td>\n",
       "      <td>2</td>\n",
       "      <td>1.0</td>\n",
       "      <td>certainly not</td>\n",
       "      <td>-2.236245</td>\n",
       "    </tr>\n",
       "  </tbody>\n",
       "</table>\n",
       "<p>1400 rows × 6 columns</p>\n",
       "</div>"
      ],
      "text/plain": [
       "     uncertainty  access  observation condition generated_answer  \\\n",
       "0            low      10            0       0.0           others   \n",
       "1            low      10            0       0.0           others   \n",
       "2            low      10            0       0.0         possibly   \n",
       "3            low      10            0       0.0     probably not   \n",
       "4            low      10            0       0.0           others   \n",
       "...          ...     ...          ...       ...              ...   \n",
       "1395        high       2            2       1.0           others   \n",
       "1396        high       2            2       1.0           others   \n",
       "1397        high       2            2       1.0           others   \n",
       "1398        high       2            2       1.0    certainly not   \n",
       "1399        high       2            2       1.0    certainly not   \n",
       "\n",
       "      generated_answer_logprob  \n",
       "0                    -2.714986  \n",
       "1                    -3.543111  \n",
       "2                    -3.089986  \n",
       "3                    -3.074361  \n",
       "4                    -0.722799  \n",
       "...                        ...  \n",
       "1395                 -0.704995  \n",
       "1396                 -0.704995  \n",
       "1397                 -0.704995  \n",
       "1398                 -2.236245  \n",
       "1399                 -2.236245  \n",
       "\n",
       "[1400 rows x 6 columns]"
      ]
     },
     "execution_count": 31,
     "metadata": {},
     "output_type": "execute_result"
    }
   ],
   "source": [
    "base_ngenerated_df = Ngenerated_to_csv(model_base, tokenizer_base)\n",
    "base_ngenerated_df"
   ]
  },
  {
   "cell_type": "code",
   "execution_count": 32,
   "metadata": {
    "execution": {
     "iopub.execute_input": "2025-02-27T21:33:31.426692Z",
     "iopub.status.busy": "2025-02-27T21:33:31.426325Z",
     "iopub.status.idle": "2025-02-27T21:42:37.503481Z",
     "shell.execute_reply": "2025-02-27T21:42:37.502494Z",
     "shell.execute_reply.started": "2025-02-27T21:33:31.426661Z"
    },
    "trusted": true
   },
   "outputs": [
    {
     "data": {
      "text/html": [
       "<div>\n",
       "<style scoped>\n",
       "    .dataframe tbody tr th:only-of-type {\n",
       "        vertical-align: middle;\n",
       "    }\n",
       "\n",
       "    .dataframe tbody tr th {\n",
       "        vertical-align: top;\n",
       "    }\n",
       "\n",
       "    .dataframe thead th {\n",
       "        text-align: right;\n",
       "    }\n",
       "</style>\n",
       "<table border=\"1\" class=\"dataframe\">\n",
       "  <thead>\n",
       "    <tr style=\"text-align: right;\">\n",
       "      <th></th>\n",
       "      <th>uncertainty</th>\n",
       "      <th>access</th>\n",
       "      <th>observation</th>\n",
       "      <th>condition</th>\n",
       "      <th>generated_answer</th>\n",
       "      <th>generated_answer_logprob</th>\n",
       "    </tr>\n",
       "  </thead>\n",
       "  <tbody>\n",
       "    <tr>\n",
       "      <th>0</th>\n",
       "      <td>low</td>\n",
       "      <td>10</td>\n",
       "      <td>0</td>\n",
       "      <td>0.0</td>\n",
       "      <td>certainly</td>\n",
       "      <td>-2.470295</td>\n",
       "    </tr>\n",
       "    <tr>\n",
       "      <th>1</th>\n",
       "      <td>low</td>\n",
       "      <td>10</td>\n",
       "      <td>0</td>\n",
       "      <td>0.0</td>\n",
       "      <td>probably not</td>\n",
       "      <td>-0.376545</td>\n",
       "    </tr>\n",
       "    <tr>\n",
       "      <th>2</th>\n",
       "      <td>low</td>\n",
       "      <td>10</td>\n",
       "      <td>0</td>\n",
       "      <td>0.0</td>\n",
       "      <td>certainly</td>\n",
       "      <td>-2.470295</td>\n",
       "    </tr>\n",
       "    <tr>\n",
       "      <th>3</th>\n",
       "      <td>low</td>\n",
       "      <td>10</td>\n",
       "      <td>0</td>\n",
       "      <td>0.0</td>\n",
       "      <td>probably not</td>\n",
       "      <td>-0.376545</td>\n",
       "    </tr>\n",
       "    <tr>\n",
       "      <th>4</th>\n",
       "      <td>low</td>\n",
       "      <td>10</td>\n",
       "      <td>0</td>\n",
       "      <td>0.0</td>\n",
       "      <td>probably not</td>\n",
       "      <td>-0.376545</td>\n",
       "    </tr>\n",
       "    <tr>\n",
       "      <th>...</th>\n",
       "      <td>...</td>\n",
       "      <td>...</td>\n",
       "      <td>...</td>\n",
       "      <td>...</td>\n",
       "      <td>...</td>\n",
       "      <td>...</td>\n",
       "    </tr>\n",
       "    <tr>\n",
       "      <th>1395</th>\n",
       "      <td>high</td>\n",
       "      <td>2</td>\n",
       "      <td>2</td>\n",
       "      <td>1.0</td>\n",
       "      <td>possibly</td>\n",
       "      <td>-2.908643</td>\n",
       "    </tr>\n",
       "    <tr>\n",
       "      <th>1396</th>\n",
       "      <td>high</td>\n",
       "      <td>2</td>\n",
       "      <td>2</td>\n",
       "      <td>1.0</td>\n",
       "      <td>others</td>\n",
       "      <td>-2.197706</td>\n",
       "    </tr>\n",
       "    <tr>\n",
       "      <th>1397</th>\n",
       "      <td>high</td>\n",
       "      <td>2</td>\n",
       "      <td>2</td>\n",
       "      <td>1.0</td>\n",
       "      <td>others</td>\n",
       "      <td>-2.197706</td>\n",
       "    </tr>\n",
       "    <tr>\n",
       "      <th>1398</th>\n",
       "      <td>high</td>\n",
       "      <td>2</td>\n",
       "      <td>2</td>\n",
       "      <td>1.0</td>\n",
       "      <td>probably not</td>\n",
       "      <td>-0.666456</td>\n",
       "    </tr>\n",
       "    <tr>\n",
       "      <th>1399</th>\n",
       "      <td>high</td>\n",
       "      <td>2</td>\n",
       "      <td>2</td>\n",
       "      <td>1.0</td>\n",
       "      <td>possibly</td>\n",
       "      <td>-2.908643</td>\n",
       "    </tr>\n",
       "  </tbody>\n",
       "</table>\n",
       "<p>1400 rows × 6 columns</p>\n",
       "</div>"
      ],
      "text/plain": [
       "     uncertainty  access  observation condition generated_answer  \\\n",
       "0            low      10            0       0.0        certainly   \n",
       "1            low      10            0       0.0     probably not   \n",
       "2            low      10            0       0.0        certainly   \n",
       "3            low      10            0       0.0     probably not   \n",
       "4            low      10            0       0.0     probably not   \n",
       "...          ...     ...          ...       ...              ...   \n",
       "1395        high       2            2       1.0         possibly   \n",
       "1396        high       2            2       1.0           others   \n",
       "1397        high       2            2       1.0           others   \n",
       "1398        high       2            2       1.0     probably not   \n",
       "1399        high       2            2       1.0         possibly   \n",
       "\n",
       "      generated_answer_logprob  \n",
       "0                    -2.470295  \n",
       "1                    -0.376545  \n",
       "2                    -2.470295  \n",
       "3                    -0.376545  \n",
       "4                    -0.376545  \n",
       "...                        ...  \n",
       "1395                 -2.908643  \n",
       "1396                 -2.197706  \n",
       "1397                 -2.197706  \n",
       "1398                 -0.666456  \n",
       "1399                 -2.908643  \n",
       "\n",
       "[1400 rows x 6 columns]"
      ]
     },
     "execution_count": 32,
     "metadata": {},
     "output_type": "execute_result"
    }
   ],
   "source": [
    "chat_ngenerated_df = Ngenerated_to_csv(model_chat, tokenizer_chat,model_type=\"chat\")\n",
    "chat_ngenerated_df"
   ]
  },
  {
   "cell_type": "code",
   "execution_count": 33,
   "metadata": {
    "execution": {
     "iopub.execute_input": "2025-02-27T21:42:37.504724Z",
     "iopub.status.busy": "2025-02-27T21:42:37.504485Z",
     "iopub.status.idle": "2025-02-27T21:42:38.492773Z",
     "shell.execute_reply": "2025-02-27T21:42:38.491842Z",
     "shell.execute_reply.started": "2025-02-27T21:42:37.504701Z"
    },
    "trusted": true
   },
   "outputs": [
    {
     "name": "stderr",
     "output_type": "stream",
     "text": [
      "/usr/local/lib/python3.10/dist-packages/seaborn/_oldcore.py:1119: FutureWarning: use_inf_as_na option is deprecated and will be removed in a future version. Convert inf values to NaN before operating instead.\n",
      "  with pd.option_context('mode.use_inf_as_na', True):\n",
      "/usr/local/lib/python3.10/dist-packages/seaborn/_oldcore.py:1075: FutureWarning: When grouping with a length-1 list-like, you will need to pass a length-1 tuple to get_group in a future version of pandas. Pass `(name,)` instead of `name` to silence this warning.\n",
      "  data_subset = grouped_data.get_group(pd_key)\n",
      "/usr/local/lib/python3.10/dist-packages/seaborn/_oldcore.py:1075: FutureWarning: When grouping with a length-1 list-like, you will need to pass a length-1 tuple to get_group in a future version of pandas. Pass `(name,)` instead of `name` to silence this warning.\n",
      "  data_subset = grouped_data.get_group(pd_key)\n"
     ]
    },
    {
     "data": {
      "image/png": "[encoded data removed]",
      "text/plain": [
       "<Figure size 1166.47x500 with 2 Axes>"
      ]
     },
     "metadata": {},
     "output_type": "display_data"
    }
   ],
   "source": [
    "base_ngenerated_df.condition= base_ngenerated_df['condition'].astype(str)\n",
    "g=sns.displot(data=base_ngenerated_df, col=\"uncertainty\", x=\"condition\", multiple=\"fill\", hue=\"generated_answer\", stat=\"percent\", palette={\"certainly not\":\"tab:green\", \"probably not\":\"tab:olive\", \"possibly\":\"tab:orange\", \"probably\":\"tab:cyan\", \"certainly\":\"tab:blue\", \"others\":\"grey\"})\n",
    "g._legend.set_title(\"Generated Answer:\")"
   ]
  },
  {
   "cell_type": "code",
   "execution_count": 42,
   "metadata": {
    "execution": {
     "iopub.execute_input": "2025-02-27T22:20:41.445279Z",
     "iopub.status.busy": "2025-02-27T22:20:41.445018Z",
     "iopub.status.idle": "2025-02-27T22:20:42.433929Z",
     "shell.execute_reply": "2025-02-27T22:20:42.433135Z",
     "shell.execute_reply.started": "2025-02-27T22:20:41.445258Z"
    },
    "trusted": true
   },
   "outputs": [
    {
     "name": "stderr",
     "output_type": "stream",
     "text": [
      "/usr/local/lib/python3.10/dist-packages/seaborn/_oldcore.py:1119: FutureWarning: use_inf_as_na option is deprecated and will be removed in a future version. Convert inf values to NaN before operating instead.\n",
      "  with pd.option_context('mode.use_inf_as_na', True):\n",
      "/usr/local/lib/python3.10/dist-packages/seaborn/_oldcore.py:1075: FutureWarning: When grouping with a length-1 list-like, you will need to pass a length-1 tuple to get_group in a future version of pandas. Pass `(name,)` instead of `name` to silence this warning.\n",
      "  data_subset = grouped_data.get_group(pd_key)\n",
      "/usr/local/lib/python3.10/dist-packages/seaborn/_oldcore.py:1075: FutureWarning: When grouping with a length-1 list-like, you will need to pass a length-1 tuple to get_group in a future version of pandas. Pass `(name,)` instead of `name` to silence this warning.\n",
      "  data_subset = grouped_data.get_group(pd_key)\n"
     ]
    },
    {
     "data": {
      "image/png": "[encoded data removed]",
      "text/plain": [
       "<Figure size 1166.47x500 with 2 Axes>"
      ]
     },
     "metadata": {},
     "output_type": "display_data"
    }
   ],
   "source": [
    "base_df_not_others = base_ngenerated_df[base_ngenerated_df[\"generated_answer\"] != \"others\"]\n",
    "g=sns.displot(data=base_df_not_others, col=\"uncertainty\", x=\"condition\", multiple=\"fill\", hue=\"generated_answer\", stat=\"percent\", palette={\"certainly not\":\"tab:green\", \"probably not\":\"tab:olive\", \"possibly\":\"tab:orange\", \"probably\":\"tab:cyan\", \"certainly\":\"tab:blue\", \"others\":\"grey\"})\n",
    "g._legend.set_title(\"Generated Answer:\")"
   ]
  },
  {
   "cell_type": "code",
   "execution_count": 35,
   "metadata": {
    "execution": {
     "iopub.execute_input": "2025-02-27T21:42:39.150889Z",
     "iopub.status.busy": "2025-02-27T21:42:39.150615Z",
     "iopub.status.idle": "2025-02-27T21:42:40.180228Z",
     "shell.execute_reply": "2025-02-27T21:42:40.179064Z",
     "shell.execute_reply.started": "2025-02-27T21:42:39.150868Z"
    },
    "trusted": true
   },
   "outputs": [
    {
     "name": "stderr",
     "output_type": "stream",
     "text": [
      "/usr/local/lib/python3.10/dist-packages/seaborn/_oldcore.py:1119: FutureWarning: use_inf_as_na option is deprecated and will be removed in a future version. Convert inf values to NaN before operating instead.\n",
      "  with pd.option_context('mode.use_inf_as_na', True):\n",
      "/usr/local/lib/python3.10/dist-packages/seaborn/_oldcore.py:1075: FutureWarning: When grouping with a length-1 list-like, you will need to pass a length-1 tuple to get_group in a future version of pandas. Pass `(name,)` instead of `name` to silence this warning.\n",
      "  data_subset = grouped_data.get_group(pd_key)\n",
      "/usr/local/lib/python3.10/dist-packages/seaborn/_oldcore.py:1075: FutureWarning: When grouping with a length-1 list-like, you will need to pass a length-1 tuple to get_group in a future version of pandas. Pass `(name,)` instead of `name` to silence this warning.\n",
      "  data_subset = grouped_data.get_group(pd_key)\n"
     ]
    },
    {
     "data": {
      "image/png": "[encoded data removed]",
      "text/plain": [
       "<Figure size 1166.47x500 with 2 Axes>"
      ]
     },
     "metadata": {},
     "output_type": "display_data"
    }
   ],
   "source": [
    "chat_ngenerated_df.condition= chat_ngenerated_df['condition'].astype(str)\n",
    "g=sns.displot(data=chat_ngenerated_df, col=\"uncertainty\", x=\"condition\", multiple=\"stack\", hue=\"generated_answer\", stat=\"percent\", palette={\"certainly not\":\"tab:green\", \"probably not\":\"tab:olive\", \"possibly\":\"tab:orange\", \"probably\":\"tab:cyan\", \"certainly\":\"tab:blue\", \"others\":\"grey\"})\n",
    "g._legend.set_title(\"Generated Answer:\")"
   ]
  },
  {
   "cell_type": "markdown",
   "metadata": {},
   "source": [
    "#### Few shots "
   ]
  },
  {
   "cell_type": "code",
   "execution_count": 36,
   "metadata": {
    "execution": {
     "iopub.execute_input": "2025-02-27T21:42:40.181428Z",
     "iopub.status.busy": "2025-02-27T21:42:40.181105Z",
     "iopub.status.idle": "2025-02-27T22:01:24.686783Z",
     "shell.execute_reply": "2025-02-27T22:01:24.685777Z",
     "shell.execute_reply.started": "2025-02-27T21:42:40.181391Z"
    },
    "trusted": true
   },
   "outputs": [
    {
     "data": {
      "text/html": [
       "<div>\n",
       "<style scoped>\n",
       "    .dataframe tbody tr th:only-of-type {\n",
       "        vertical-align: middle;\n",
       "    }\n",
       "\n",
       "    .dataframe tbody tr th {\n",
       "        vertical-align: top;\n",
       "    }\n",
       "\n",
       "    .dataframe thead th {\n",
       "        text-align: right;\n",
       "    }\n",
       "</style>\n",
       "<table border=\"1\" class=\"dataframe\">\n",
       "  <thead>\n",
       "    <tr style=\"text-align: right;\">\n",
       "      <th></th>\n",
       "      <th>uncertainty</th>\n",
       "      <th>access</th>\n",
       "      <th>observation</th>\n",
       "      <th>condition</th>\n",
       "      <th>generated_answer</th>\n",
       "      <th>generated_answer_logprob</th>\n",
       "    </tr>\n",
       "  </thead>\n",
       "  <tbody>\n",
       "    <tr>\n",
       "      <th>0</th>\n",
       "      <td>low</td>\n",
       "      <td>10</td>\n",
       "      <td>0</td>\n",
       "      <td>0.0</td>\n",
       "      <td>others</td>\n",
       "      <td>-3.778285</td>\n",
       "    </tr>\n",
       "    <tr>\n",
       "      <th>1</th>\n",
       "      <td>low</td>\n",
       "      <td>10</td>\n",
       "      <td>0</td>\n",
       "      <td>0.0</td>\n",
       "      <td>others</td>\n",
       "      <td>-3.059535</td>\n",
       "    </tr>\n",
       "    <tr>\n",
       "      <th>2</th>\n",
       "      <td>low</td>\n",
       "      <td>10</td>\n",
       "      <td>0</td>\n",
       "      <td>0.0</td>\n",
       "      <td>others</td>\n",
       "      <td>-1.426722</td>\n",
       "    </tr>\n",
       "    <tr>\n",
       "      <th>3</th>\n",
       "      <td>low</td>\n",
       "      <td>10</td>\n",
       "      <td>0</td>\n",
       "      <td>0.0</td>\n",
       "      <td>others</td>\n",
       "      <td>-4.122035</td>\n",
       "    </tr>\n",
       "    <tr>\n",
       "      <th>4</th>\n",
       "      <td>low</td>\n",
       "      <td>10</td>\n",
       "      <td>0</td>\n",
       "      <td>0.0</td>\n",
       "      <td>others</td>\n",
       "      <td>-2.653285</td>\n",
       "    </tr>\n",
       "    <tr>\n",
       "      <th>...</th>\n",
       "      <td>...</td>\n",
       "      <td>...</td>\n",
       "      <td>...</td>\n",
       "      <td>...</td>\n",
       "      <td>...</td>\n",
       "      <td>...</td>\n",
       "    </tr>\n",
       "    <tr>\n",
       "      <th>1395</th>\n",
       "      <td>high</td>\n",
       "      <td>2</td>\n",
       "      <td>2</td>\n",
       "      <td>1.0</td>\n",
       "      <td>certainly not</td>\n",
       "      <td>-2.469184</td>\n",
       "    </tr>\n",
       "    <tr>\n",
       "      <th>1396</th>\n",
       "      <td>high</td>\n",
       "      <td>2</td>\n",
       "      <td>2</td>\n",
       "      <td>1.0</td>\n",
       "      <td>others</td>\n",
       "      <td>-2.547309</td>\n",
       "    </tr>\n",
       "    <tr>\n",
       "      <th>1397</th>\n",
       "      <td>high</td>\n",
       "      <td>2</td>\n",
       "      <td>2</td>\n",
       "      <td>1.0</td>\n",
       "      <td>certainly not</td>\n",
       "      <td>-2.469184</td>\n",
       "    </tr>\n",
       "    <tr>\n",
       "      <th>1398</th>\n",
       "      <td>high</td>\n",
       "      <td>2</td>\n",
       "      <td>2</td>\n",
       "      <td>1.0</td>\n",
       "      <td>others</td>\n",
       "      <td>-3.008247</td>\n",
       "    </tr>\n",
       "    <tr>\n",
       "      <th>1399</th>\n",
       "      <td>high</td>\n",
       "      <td>2</td>\n",
       "      <td>2</td>\n",
       "      <td>1.0</td>\n",
       "      <td>certainly not</td>\n",
       "      <td>-2.469184</td>\n",
       "    </tr>\n",
       "  </tbody>\n",
       "</table>\n",
       "<p>1400 rows × 6 columns</p>\n",
       "</div>"
      ],
      "text/plain": [
       "     uncertainty  access  observation condition generated_answer  \\\n",
       "0            low      10            0       0.0           others   \n",
       "1            low      10            0       0.0           others   \n",
       "2            low      10            0       0.0           others   \n",
       "3            low      10            0       0.0           others   \n",
       "4            low      10            0       0.0           others   \n",
       "...          ...     ...          ...       ...              ...   \n",
       "1395        high       2            2       1.0    certainly not   \n",
       "1396        high       2            2       1.0           others   \n",
       "1397        high       2            2       1.0    certainly not   \n",
       "1398        high       2            2       1.0           others   \n",
       "1399        high       2            2       1.0    certainly not   \n",
       "\n",
       "      generated_answer_logprob  \n",
       "0                    -3.778285  \n",
       "1                    -3.059535  \n",
       "2                    -1.426722  \n",
       "3                    -4.122035  \n",
       "4                    -2.653285  \n",
       "...                        ...  \n",
       "1395                 -2.469184  \n",
       "1396                 -2.547309  \n",
       "1397                 -2.469184  \n",
       "1398                 -3.008247  \n",
       "1399                 -2.469184  \n",
       "\n",
       "[1400 rows x 6 columns]"
      ]
     },
     "execution_count": 36,
     "metadata": {},
     "output_type": "execute_result"
    }
   ],
   "source": [
    "base_ngenerated_few_shots_df = Ngenerated_to_csv(model_base, tokenizer_base,few_shots=True)\n",
    "base_ngenerated_few_shots_df"
   ]
  },
  {
   "cell_type": "code",
   "execution_count": 37,
   "metadata": {
    "execution": {
     "iopub.execute_input": "2025-02-27T22:01:24.688197Z",
     "iopub.status.busy": "2025-02-27T22:01:24.687872Z",
     "iopub.status.idle": "2025-02-27T22:20:40.184203Z",
     "shell.execute_reply": "2025-02-27T22:20:40.183066Z",
     "shell.execute_reply.started": "2025-02-27T22:01:24.688163Z"
    },
    "trusted": true
   },
   "outputs": [
    {
     "data": {
      "text/html": [
       "<div>\n",
       "<style scoped>\n",
       "    .dataframe tbody tr th:only-of-type {\n",
       "        vertical-align: middle;\n",
       "    }\n",
       "\n",
       "    .dataframe tbody tr th {\n",
       "        vertical-align: top;\n",
       "    }\n",
       "\n",
       "    .dataframe thead th {\n",
       "        text-align: right;\n",
       "    }\n",
       "</style>\n",
       "<table border=\"1\" class=\"dataframe\">\n",
       "  <thead>\n",
       "    <tr style=\"text-align: right;\">\n",
       "      <th></th>\n",
       "      <th>uncertainty</th>\n",
       "      <th>access</th>\n",
       "      <th>observation</th>\n",
       "      <th>condition</th>\n",
       "      <th>generated_answer</th>\n",
       "      <th>generated_answer_logprob</th>\n",
       "    </tr>\n",
       "  </thead>\n",
       "  <tbody>\n",
       "    <tr>\n",
       "      <th>0</th>\n",
       "      <td>low</td>\n",
       "      <td>10</td>\n",
       "      <td>0</td>\n",
       "      <td>0.0</td>\n",
       "      <td>others</td>\n",
       "      <td>-0.522137</td>\n",
       "    </tr>\n",
       "    <tr>\n",
       "      <th>1</th>\n",
       "      <td>low</td>\n",
       "      <td>10</td>\n",
       "      <td>0</td>\n",
       "      <td>0.0</td>\n",
       "      <td>others</td>\n",
       "      <td>-1.194012</td>\n",
       "    </tr>\n",
       "    <tr>\n",
       "      <th>2</th>\n",
       "      <td>low</td>\n",
       "      <td>10</td>\n",
       "      <td>0</td>\n",
       "      <td>0.0</td>\n",
       "      <td>others</td>\n",
       "      <td>-3.334637</td>\n",
       "    </tr>\n",
       "    <tr>\n",
       "      <th>3</th>\n",
       "      <td>low</td>\n",
       "      <td>10</td>\n",
       "      <td>0</td>\n",
       "      <td>0.0</td>\n",
       "      <td>others</td>\n",
       "      <td>-1.194012</td>\n",
       "    </tr>\n",
       "    <tr>\n",
       "      <th>4</th>\n",
       "      <td>low</td>\n",
       "      <td>10</td>\n",
       "      <td>0</td>\n",
       "      <td>0.0</td>\n",
       "      <td>others</td>\n",
       "      <td>-1.194012</td>\n",
       "    </tr>\n",
       "    <tr>\n",
       "      <th>...</th>\n",
       "      <td>...</td>\n",
       "      <td>...</td>\n",
       "      <td>...</td>\n",
       "      <td>...</td>\n",
       "      <td>...</td>\n",
       "      <td>...</td>\n",
       "    </tr>\n",
       "    <tr>\n",
       "      <th>1395</th>\n",
       "      <td>high</td>\n",
       "      <td>2</td>\n",
       "      <td>2</td>\n",
       "      <td>1.0</td>\n",
       "      <td>others</td>\n",
       "      <td>-0.295744</td>\n",
       "    </tr>\n",
       "    <tr>\n",
       "      <th>1396</th>\n",
       "      <td>high</td>\n",
       "      <td>2</td>\n",
       "      <td>2</td>\n",
       "      <td>1.0</td>\n",
       "      <td>others</td>\n",
       "      <td>-0.295744</td>\n",
       "    </tr>\n",
       "    <tr>\n",
       "      <th>1397</th>\n",
       "      <td>high</td>\n",
       "      <td>2</td>\n",
       "      <td>2</td>\n",
       "      <td>1.0</td>\n",
       "      <td>others</td>\n",
       "      <td>-0.295744</td>\n",
       "    </tr>\n",
       "    <tr>\n",
       "      <th>1398</th>\n",
       "      <td>high</td>\n",
       "      <td>2</td>\n",
       "      <td>2</td>\n",
       "      <td>1.0</td>\n",
       "      <td>others</td>\n",
       "      <td>-1.639494</td>\n",
       "    </tr>\n",
       "    <tr>\n",
       "      <th>1399</th>\n",
       "      <td>high</td>\n",
       "      <td>2</td>\n",
       "      <td>2</td>\n",
       "      <td>1.0</td>\n",
       "      <td>others</td>\n",
       "      <td>-0.295744</td>\n",
       "    </tr>\n",
       "  </tbody>\n",
       "</table>\n",
       "<p>1400 rows × 6 columns</p>\n",
       "</div>"
      ],
      "text/plain": [
       "     uncertainty  access  observation condition generated_answer  \\\n",
       "0            low      10            0       0.0           others   \n",
       "1            low      10            0       0.0           others   \n",
       "2            low      10            0       0.0           others   \n",
       "3            low      10            0       0.0           others   \n",
       "4            low      10            0       0.0           others   \n",
       "...          ...     ...          ...       ...              ...   \n",
       "1395        high       2            2       1.0           others   \n",
       "1396        high       2            2       1.0           others   \n",
       "1397        high       2            2       1.0           others   \n",
       "1398        high       2            2       1.0           others   \n",
       "1399        high       2            2       1.0           others   \n",
       "\n",
       "      generated_answer_logprob  \n",
       "0                    -0.522137  \n",
       "1                    -1.194012  \n",
       "2                    -3.334637  \n",
       "3                    -1.194012  \n",
       "4                    -1.194012  \n",
       "...                        ...  \n",
       "1395                 -0.295744  \n",
       "1396                 -0.295744  \n",
       "1397                 -0.295744  \n",
       "1398                 -1.639494  \n",
       "1399                 -0.295744  \n",
       "\n",
       "[1400 rows x 6 columns]"
      ]
     },
     "execution_count": 37,
     "metadata": {},
     "output_type": "execute_result"
    }
   ],
   "source": [
    "chat_ngenerated_few_shots_df = Ngenerated_to_csv(model_chat, tokenizer_chat,few_shots=True, model_type=\"chat\")\n",
    "chat_ngenerated_few_shots_df"
   ]
  },
  {
   "cell_type": "code",
   "execution_count": 43,
   "metadata": {
    "execution": {
     "iopub.execute_input": "2025-02-27T22:24:52.077438Z",
     "iopub.status.busy": "2025-02-27T22:24:52.077082Z",
     "iopub.status.idle": "2025-02-27T22:24:53.136839Z",
     "shell.execute_reply": "2025-02-27T22:24:53.135904Z",
     "shell.execute_reply.started": "2025-02-27T22:24:52.077412Z"
    },
    "trusted": true
   },
   "outputs": [
    {
     "name": "stderr",
     "output_type": "stream",
     "text": [
      "/usr/local/lib/python3.10/dist-packages/seaborn/_oldcore.py:1119: FutureWarning: use_inf_as_na option is deprecated and will be removed in a future version. Convert inf values to NaN before operating instead.\n",
      "  with pd.option_context('mode.use_inf_as_na', True):\n",
      "/usr/local/lib/python3.10/dist-packages/seaborn/_oldcore.py:1075: FutureWarning: When grouping with a length-1 list-like, you will need to pass a length-1 tuple to get_group in a future version of pandas. Pass `(name,)` instead of `name` to silence this warning.\n",
      "  data_subset = grouped_data.get_group(pd_key)\n",
      "/usr/local/lib/python3.10/dist-packages/seaborn/_oldcore.py:1075: FutureWarning: When grouping with a length-1 list-like, you will need to pass a length-1 tuple to get_group in a future version of pandas. Pass `(name,)` instead of `name` to silence this warning.\n",
      "  data_subset = grouped_data.get_group(pd_key)\n"
     ]
    },
    {
     "data": {
      "image/png": "[encoded data removed]",
      "text/plain": [
       "<Figure size 1166.47x500 with 2 Axes>"
      ]
     },
     "metadata": {},
     "output_type": "display_data"
    }
   ],
   "source": [
    "g=sns.displot(data=base_ngenerated_few_shots_df, col=\"uncertainty\", x=\"condition\", multiple=\"stack\", hue=\"generated_answer\", stat=\"percent\", palette={\"certainly not\":\"tab:green\", \"probably not\":\"tab:olive\", \"possibly\":\"tab:orange\", \"probably\":\"tab:cyan\", \"certainly\":\"tab:blue\", \"others\":\"grey\"})\n",
    "g._legend.set_title(\"Generated Answer:\")"
   ]
  },
  {
   "cell_type": "code",
   "execution_count": 44,
   "metadata": {
    "execution": {
     "iopub.execute_input": "2025-02-27T22:25:17.299384Z",
     "iopub.status.busy": "2025-02-27T22:25:17.299000Z",
     "iopub.status.idle": "2025-02-27T22:25:18.011899Z",
     "shell.execute_reply": "2025-02-27T22:25:18.010958Z",
     "shell.execute_reply.started": "2025-02-27T22:25:17.299355Z"
    },
    "trusted": true
   },
   "outputs": [
    {
     "name": "stderr",
     "output_type": "stream",
     "text": [
      "/usr/local/lib/python3.10/dist-packages/seaborn/_oldcore.py:1119: FutureWarning: use_inf_as_na option is deprecated and will be removed in a future version. Convert inf values to NaN before operating instead.\n",
      "  with pd.option_context('mode.use_inf_as_na', True):\n",
      "/usr/local/lib/python3.10/dist-packages/seaborn/_oldcore.py:1075: FutureWarning: When grouping with a length-1 list-like, you will need to pass a length-1 tuple to get_group in a future version of pandas. Pass `(name,)` instead of `name` to silence this warning.\n",
      "  data_subset = grouped_data.get_group(pd_key)\n",
      "/usr/local/lib/python3.10/dist-packages/seaborn/_oldcore.py:1075: FutureWarning: When grouping with a length-1 list-like, you will need to pass a length-1 tuple to get_group in a future version of pandas. Pass `(name,)` instead of `name` to silence this warning.\n",
      "  data_subset = grouped_data.get_group(pd_key)\n"
     ]
    },
    {
     "data": {
      "image/png": "[encoded data removed]",
      "text/plain": [
       "<Figure size 1166.47x500 with 2 Axes>"
      ]
     },
     "metadata": {},
     "output_type": "display_data"
    }
   ],
   "source": [
    "g=sns.displot(data=chat_ngenerated_few_shots_df, col=\"uncertainty\", x=\"condition\", multiple=\"stack\", hue=\"generated_answer\", stat=\"percent\", palette={\"certainly not\":\"tab:green\", \"probably not\":\"tab:olive\", \"possibly\":\"tab:orange\", \"probably\":\"tab:cyan\", \"certainly\":\"tab:blue\", \"others\":\"grey\"})\n",
    "g._legend.set_title(\"Generated Answer:\")"
   ]
  },
  {
   "cell_type": "code",
   "execution_count": 40,
   "metadata": {
    "execution": {
     "iopub.execute_input": "2025-02-27T22:20:41.424169Z",
     "iopub.status.busy": "2025-02-27T22:20:41.423952Z",
     "iopub.status.idle": "2025-02-27T22:20:41.429166Z",
     "shell.execute_reply": "2025-02-27T22:20:41.428473Z",
     "shell.execute_reply.started": "2025-02-27T22:20:41.424150Z"
    },
    "trusted": true
   },
   "outputs": [
    {
     "name": "stdout",
     "output_type": "stream",
     "text": [
      "/kaggle/working\n"
     ]
    }
   ],
   "source": [
    "%cd /kaggle/working"
   ]
  },
  {
   "cell_type": "code",
   "execution_count": 41,
   "metadata": {
    "execution": {
     "iopub.execute_input": "2025-02-27T22:20:41.430327Z",
     "iopub.status.busy": "2025-02-27T22:20:41.430014Z",
     "iopub.status.idle": "2025-02-27T22:20:41.442873Z",
     "shell.execute_reply": "2025-02-27T22:20:41.441984Z",
     "shell.execute_reply.started": "2025-02-27T22:20:41.430296Z"
    },
    "trusted": true
   },
   "outputs": [
    {
     "data": {
      "text/html": [
       "<a href='generated_answer_logprobs_chat_few-shots.csv' target='_blank'>generated_answer_logprobs_chat_few-shots.csv</a><br>"
      ],
      "text/plain": [
       "/kaggle/working/generated_answer_logprobs_chat_few-shots.csv"
      ]
     },
     "execution_count": 41,
     "metadata": {},
     "output_type": "execute_result"
    }
   ],
   "source": [
    "from IPython.display import FileLink \n",
    "FileLink(r'generated_answer_logprobs_chat_few-shots.csv')"
   ]
  }
 ],
 "metadata": {
  "kaggle": {
   "accelerator": "nvidiaTeslaT4",
   "dataSources": [],
   "dockerImageVersionId": 30919,
   "isGpuEnabled": true,
   "isInternetEnabled": true,
   "language": "python",
   "sourceType": "notebook"
  },
  "kernelspec": {
   "display_name": "Python 3",
   "language": "python",
   "name": "python3"
  },
  "language_info": {
   "codemirror_mode": {
    "name": "ipython",
    "version": 3
   },
   "file_extension": ".py",
   "mimetype": "text/x-python",
   "name": "python",
   "nbconvert_exporter": "python",
   "pygments_lexer": "ipython3",
   "version": "3.10.12"
  }
 },
 "nbformat": 4,
 "nbformat_minor": 4
}
